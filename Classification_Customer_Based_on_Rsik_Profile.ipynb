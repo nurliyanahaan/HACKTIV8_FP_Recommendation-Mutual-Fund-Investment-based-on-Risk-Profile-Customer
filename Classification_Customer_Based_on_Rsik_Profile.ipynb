{
 "cells": [
  {
   "attachments": {},
   "cell_type": "markdown",
   "metadata": {},
   "source": [
    "# **FINAL PROJECT**"
   ]
  },
  {
   "attachments": {},
   "cell_type": "markdown",
   "metadata": {},
   "source": [
    "# **1. INTRODUCTION**"
   ]
  },
  {
   "attachments": {},
   "cell_type": "markdown",
   "metadata": {},
   "source": [
    "Kelompok 3 : \n",
    "1. Aan Nurliyanah\n",
    "2. Ajeng Nilta Adriani\n",
    "3. Fachmi Maris F.\n",
    "4. Muhammad Fawwaz Dynoeputra Isnandar\n",
    "5. Ropiudin\n",
    "\n",
    "Link Deployment : "
   ]
  },
  {
   "attachments": {},
   "cell_type": "markdown",
   "metadata": {},
   "source": [
    "Dataset pada penilitian ini adalah data yang berisi data berdasarkan Kuesioner yang diisi Calon Nasabah untuk mengetahu klasifikasi risk profile calon nasabah sebelum melakukan investasi reksadana. Berdasarkan risk profile dari calon nasabah maka kami akan memberikan rekomendasi produk reksadana mana yang cocok untuk dipilih calon nasabah. Selain memberikan rekomendasi jenis dan produk reksadana, kelompok kami akan memberikan forecasting harga dari reksadana tersebut untuk 4 minggu ke depan."
   ]
  },
  {
   "attachments": {},
   "cell_type": "markdown",
   "metadata": {},
   "source": [
    "|      `COLUMN`      | DESCRIPTION                                                                                                       |\n",
    "| :----------------: | :---------------------------------------------------------------------------------------------------------------- |\n",
    "|    `Age`    | Informasi tentang umur                                                                                                       |\n",
    "|      `Expenses`      | Informasi tentang persentase biaya yang dikeluarkan dari income yang didapatkan                                                                        |\n",
    "|  `Financial Status`   | Informasi tentang komisi perbandingan antara utang dengan asset                                                            |\n",
    "|     `Experience`      | Informasi tentang pengalaman Nasabah dalam berinvestasi                                                               |\n",
    "|    `Estimated Period`    | Informasi tentang jangka waktu Nasabah dalam melakukan investasi)                                                              |\n",
    "|      `Scenario`      | Informasi tentang perbandingan antara mendapatkan keuntungan dan kerugian dalam berinvestasi                                                          |\n",
    "|   `Unwilling toAccpet`   | Informasi tentang toleransi kerugian yang di harapkan oleh Nasabah)                                                         |\n",
    "|  `Sum_Scores`   | Klasifikasi profile pada Nasabah                                        |"
   ]
  },
  {
   "attachments": {},
   "cell_type": "markdown",
   "metadata": {},
   "source": [
    "AGE :    \n",
    "- Over 55 years (1)\n",
    "- 45 - 55 years (2)\n",
    "- 35 - 44 years (3)\n",
    "- Under 35 Years (4)\n",
    "\n",
    "EXPENSES :\n",
    "- LEBIH DARI 75 % dari income (1)\n",
    "- 50-75 % dari income (2)\n",
    "- 25-50% dari income (3)\n",
    "- Dibawah 25% (4)\n",
    "\n",
    "FINANCIAL STATUS :\n",
    "- debts > asset (1)\n",
    "- debts = asset (2)\n",
    "- debts < asset (3)\n",
    "- have invest of pension (4)\n",
    "\n",
    "EXPERIENCE :\n",
    "- Bank Deposit (1)\n",
    "- Bonds (Obligasi) (2)\n",
    "- Fixed Income (Pendapatan Tetap) (3)\n",
    "- High Rate Asset (4)\n",
    "\n",
    "ESTIMATED PERIOD :\n",
    "- Under 1 year (1)\n",
    "- 1 - 3 year (2)\n",
    "- 3 - 5 year (3)\n",
    "- Over 5 year (4)\n",
    "\n",
    "SCENARIO :\n",
    "- return 2.5% loss 0% (1)\n",
    "- return 7% loss 1% (2)\n",
    "- return 15% loss 5% (3)\n",
    "- return 25% loss 15% (4)\n",
    "\n",
    "UNWILLING TO ACCEPT (**TOLERANSI KERUGIAN**):\n",
    "- Below 5% (1)\n",
    "- 5-10% (2)\n",
    "- 10-20% (3)\n",
    "- Above 20% (4)\n",
    "\n",
    "SUM SCORES : \n",
    "1. \"<10\"   = Low Risk (**Very Cautious**)\n",
    "2. \"11-15\" = Low to moderate Risk (**Cautious**)\n",
    "3. \"16-21\" = Moderate to moderately high risk (**Balanced**)\n",
    "4. \"22-26\" = High Risk (**Adventurous**)\n",
    "5. \">26\"   = Very High risk (**Speculative**)"
   ]
  },
  {
   "attachments": {},
   "cell_type": "markdown",
   "metadata": {},
   "source": [
    "# 1.2 Objectives"
   ]
  },
  {
   "attachments": {},
   "cell_type": "markdown",
   "metadata": {},
   "source": [
    "The objectives in this final project \n",
    "1. Classification Customer Ris Profile \n",
    "2. Give Recommendation Based on Risk Profile Customer\n",
    "3. Prediction price high and low forecasting "
   ]
  },
  {
   "attachments": {},
   "cell_type": "markdown",
   "metadata": {},
   "source": [
    "# **2. IMPORT LIBRARIES**"
   ]
  },
  {
   "attachments": {},
   "cell_type": "markdown",
   "metadata": {},
   "source": [
    "Import the library to be used in dataset analysis."
   ]
  },
  {
   "cell_type": "code",
   "execution_count": 1,
   "metadata": {},
   "outputs": [],
   "source": [
    "import pandas as pd\n",
    "import numpy as np\n",
    "from sklearn.svm import SVC\n",
    "from sklearn.model_selection import train_test_split\n",
    "from sklearn.preprocessing import StandardScaler, OrdinalEncoder\n",
    "from sklearn.pipeline import Pipeline\n",
    "from sklearn.compose import ColumnTransformer\n",
    "from sklearn.metrics import accuracy_score, classification_report, ConfusionMatrixDisplay,confusion_matrix\n",
    "import pickle \n",
    "import random\n",
    "\n",
    "pd.set_option('display.max_column', None)\n",
    "pd.set_option('display.max_rows',100)\n",
    "import warnings\n",
    "warnings.filterwarnings('ignore')"
   ]
  },
  {
   "attachments": {},
   "cell_type": "markdown",
   "metadata": {},
   "source": [
    "# **3. DATA LOADING** "
   ]
  },
  {
   "attachments": {},
   "cell_type": "markdown",
   "metadata": {},
   "source": [
    "Chapter three is intended as a chapter for loading data into a notebook. The data entered into the notebook will be assigned to the df variable. Then, after the data is successfully loaded into the notebook I will show a preview of the first 5 rows in the dataset."
   ]
  },
  {
   "cell_type": "code",
   "execution_count": 2,
   "metadata": {},
   "outputs": [],
   "source": [
    "df = pd.read_csv('FinalDataFix.csv')"
   ]
  },
  {
   "cell_type": "code",
   "execution_count": 3,
   "metadata": {},
   "outputs": [
    {
     "data": {
      "text/html": [
       "<div>\n",
       "<style scoped>\n",
       "    .dataframe tbody tr th:only-of-type {\n",
       "        vertical-align: middle;\n",
       "    }\n",
       "\n",
       "    .dataframe tbody tr th {\n",
       "        vertical-align: top;\n",
       "    }\n",
       "\n",
       "    .dataframe thead th {\n",
       "        text-align: right;\n",
       "    }\n",
       "</style>\n",
       "<table border=\"1\" class=\"dataframe\">\n",
       "  <thead>\n",
       "    <tr style=\"text-align: right;\">\n",
       "      <th></th>\n",
       "      <th>Unnamed: 0</th>\n",
       "      <th>age</th>\n",
       "      <th>expenses</th>\n",
       "      <th>financial_status</th>\n",
       "      <th>experience</th>\n",
       "      <th>estimated_period</th>\n",
       "      <th>unwilling_toAccept</th>\n",
       "      <th>scenario</th>\n",
       "      <th>sum_scores</th>\n",
       "      <th>salary</th>\n",
       "    </tr>\n",
       "  </thead>\n",
       "  <tbody>\n",
       "    <tr>\n",
       "      <th>0</th>\n",
       "      <td>0</td>\n",
       "      <td>2</td>\n",
       "      <td>4</td>\n",
       "      <td>2</td>\n",
       "      <td>3</td>\n",
       "      <td>2</td>\n",
       "      <td>2</td>\n",
       "      <td>4</td>\n",
       "      <td>3</td>\n",
       "      <td>97036796</td>\n",
       "    </tr>\n",
       "    <tr>\n",
       "      <th>1</th>\n",
       "      <td>1</td>\n",
       "      <td>3</td>\n",
       "      <td>3</td>\n",
       "      <td>2</td>\n",
       "      <td>4</td>\n",
       "      <td>3</td>\n",
       "      <td>4</td>\n",
       "      <td>4</td>\n",
       "      <td>4</td>\n",
       "      <td>84735152</td>\n",
       "    </tr>\n",
       "    <tr>\n",
       "      <th>2</th>\n",
       "      <td>2</td>\n",
       "      <td>4</td>\n",
       "      <td>3</td>\n",
       "      <td>4</td>\n",
       "      <td>6</td>\n",
       "      <td>4</td>\n",
       "      <td>1</td>\n",
       "      <td>3</td>\n",
       "      <td>4</td>\n",
       "      <td>5201451</td>\n",
       "    </tr>\n",
       "    <tr>\n",
       "      <th>3</th>\n",
       "      <td>3</td>\n",
       "      <td>3</td>\n",
       "      <td>4</td>\n",
       "      <td>4</td>\n",
       "      <td>5</td>\n",
       "      <td>4</td>\n",
       "      <td>1</td>\n",
       "      <td>1</td>\n",
       "      <td>4</td>\n",
       "      <td>22683827</td>\n",
       "    </tr>\n",
       "    <tr>\n",
       "      <th>4</th>\n",
       "      <td>4</td>\n",
       "      <td>4</td>\n",
       "      <td>1</td>\n",
       "      <td>1</td>\n",
       "      <td>2</td>\n",
       "      <td>2</td>\n",
       "      <td>4</td>\n",
       "      <td>4</td>\n",
       "      <td>3</td>\n",
       "      <td>3340289</td>\n",
       "    </tr>\n",
       "  </tbody>\n",
       "</table>\n",
       "</div>"
      ],
      "text/plain": [
       "   Unnamed: 0  age  expenses  financial_status  experience  estimated_period  \\\n",
       "0           0    2         4                 2           3                 2   \n",
       "1           1    3         3                 2           4                 3   \n",
       "2           2    4         3                 4           6                 4   \n",
       "3           3    3         4                 4           5                 4   \n",
       "4           4    4         1                 1           2                 2   \n",
       "\n",
       "   unwilling_toAccept  scenario  sum_scores    salary  \n",
       "0                   2         4           3  97036796  \n",
       "1                   4         4           4  84735152  \n",
       "2                   1         3           4   5201451  \n",
       "3                   1         1           4  22683827  \n",
       "4                   4         4           3   3340289  "
      ]
     },
     "execution_count": 3,
     "metadata": {},
     "output_type": "execute_result"
    }
   ],
   "source": [
    "df.head()"
   ]
  },
  {
   "cell_type": "code",
   "execution_count": 4,
   "metadata": {},
   "outputs": [
    {
     "data": {
      "text/html": [
       "<div>\n",
       "<style scoped>\n",
       "    .dataframe tbody tr th:only-of-type {\n",
       "        vertical-align: middle;\n",
       "    }\n",
       "\n",
       "    .dataframe tbody tr th {\n",
       "        vertical-align: top;\n",
       "    }\n",
       "\n",
       "    .dataframe thead th {\n",
       "        text-align: right;\n",
       "    }\n",
       "</style>\n",
       "<table border=\"1\" class=\"dataframe\">\n",
       "  <thead>\n",
       "    <tr style=\"text-align: right;\">\n",
       "      <th></th>\n",
       "      <th>Unnamed: 0</th>\n",
       "      <th>age</th>\n",
       "      <th>expenses</th>\n",
       "      <th>financial_status</th>\n",
       "      <th>experience</th>\n",
       "      <th>estimated_period</th>\n",
       "      <th>unwilling_toAccept</th>\n",
       "      <th>scenario</th>\n",
       "      <th>sum_scores</th>\n",
       "      <th>salary</th>\n",
       "    </tr>\n",
       "  </thead>\n",
       "  <tbody>\n",
       "    <tr>\n",
       "      <th>0</th>\n",
       "      <td>0</td>\n",
       "      <td>2</td>\n",
       "      <td>4</td>\n",
       "      <td>2</td>\n",
       "      <td>3</td>\n",
       "      <td>2</td>\n",
       "      <td>2</td>\n",
       "      <td>4</td>\n",
       "      <td>3</td>\n",
       "      <td>97036796</td>\n",
       "    </tr>\n",
       "    <tr>\n",
       "      <th>1</th>\n",
       "      <td>1</td>\n",
       "      <td>3</td>\n",
       "      <td>3</td>\n",
       "      <td>2</td>\n",
       "      <td>4</td>\n",
       "      <td>3</td>\n",
       "      <td>4</td>\n",
       "      <td>4</td>\n",
       "      <td>4</td>\n",
       "      <td>84735152</td>\n",
       "    </tr>\n",
       "    <tr>\n",
       "      <th>2</th>\n",
       "      <td>2</td>\n",
       "      <td>4</td>\n",
       "      <td>3</td>\n",
       "      <td>4</td>\n",
       "      <td>6</td>\n",
       "      <td>4</td>\n",
       "      <td>1</td>\n",
       "      <td>3</td>\n",
       "      <td>4</td>\n",
       "      <td>5201451</td>\n",
       "    </tr>\n",
       "    <tr>\n",
       "      <th>3</th>\n",
       "      <td>3</td>\n",
       "      <td>3</td>\n",
       "      <td>4</td>\n",
       "      <td>4</td>\n",
       "      <td>5</td>\n",
       "      <td>4</td>\n",
       "      <td>1</td>\n",
       "      <td>1</td>\n",
       "      <td>4</td>\n",
       "      <td>22683827</td>\n",
       "    </tr>\n",
       "    <tr>\n",
       "      <th>4</th>\n",
       "      <td>4</td>\n",
       "      <td>4</td>\n",
       "      <td>1</td>\n",
       "      <td>1</td>\n",
       "      <td>2</td>\n",
       "      <td>2</td>\n",
       "      <td>4</td>\n",
       "      <td>4</td>\n",
       "      <td>3</td>\n",
       "      <td>3340289</td>\n",
       "    </tr>\n",
       "  </tbody>\n",
       "</table>\n",
       "</div>"
      ],
      "text/plain": [
       "   Unnamed: 0  age  expenses  financial_status  experience  estimated_period  \\\n",
       "0           0    2         4                 2           3                 2   \n",
       "1           1    3         3                 2           4                 3   \n",
       "2           2    4         3                 4           6                 4   \n",
       "3           3    3         4                 4           5                 4   \n",
       "4           4    4         1                 1           2                 2   \n",
       "\n",
       "   unwilling_toAccept  scenario  sum_scores    salary  \n",
       "0                   2         4           3  97036796  \n",
       "1                   4         4           4  84735152  \n",
       "2                   1         3           4   5201451  \n",
       "3                   1         1           4  22683827  \n",
       "4                   4         4           3   3340289  "
      ]
     },
     "execution_count": 4,
     "metadata": {},
     "output_type": "execute_result"
    }
   ],
   "source": [
    "df.head()"
   ]
  },
  {
   "attachments": {},
   "cell_type": "markdown",
   "metadata": {},
   "source": [
    "## **4. DATA CLEANING AND MANIPULATION**"
   ]
  },
  {
   "cell_type": "code",
   "execution_count": 5,
   "metadata": {},
   "outputs": [],
   "source": [
    "df.drop(columns='Unnamed: 0',inplace=True)"
   ]
  },
  {
   "attachments": {},
   "cell_type": "markdown",
   "metadata": {},
   "source": [
    "Menghapus kolom Unnamed: 0 karena tidak diperlukan dalam penilitian project ini. "
   ]
  },
  {
   "cell_type": "code",
   "execution_count": 6,
   "metadata": {},
   "outputs": [
    {
     "data": {
      "text/plain": [
       "False"
      ]
     },
     "execution_count": 6,
     "metadata": {},
     "output_type": "execute_result"
    }
   ],
   "source": [
    "df.duplicated().any()"
   ]
  },
  {
   "attachments": {},
   "cell_type": "markdown",
   "metadata": {},
   "source": [
    "Dalam dataset ini tidak ditemukannya data duplicated."
   ]
  },
  {
   "attachments": {},
   "cell_type": "markdown",
   "metadata": {},
   "source": [
    "## **5. DATA SPLITTING**"
   ]
  },
  {
   "cell_type": "code",
   "execution_count": 7,
   "metadata": {},
   "outputs": [
    {
     "data": {
      "text/html": [
       "<div>\n",
       "<style scoped>\n",
       "    .dataframe tbody tr th:only-of-type {\n",
       "        vertical-align: middle;\n",
       "    }\n",
       "\n",
       "    .dataframe tbody tr th {\n",
       "        vertical-align: top;\n",
       "    }\n",
       "\n",
       "    .dataframe thead th {\n",
       "        text-align: right;\n",
       "    }\n",
       "</style>\n",
       "<table border=\"1\" class=\"dataframe\">\n",
       "  <thead>\n",
       "    <tr style=\"text-align: right;\">\n",
       "      <th></th>\n",
       "      <th>age</th>\n",
       "      <th>expenses</th>\n",
       "      <th>financial_status</th>\n",
       "      <th>experience</th>\n",
       "      <th>estimated_period</th>\n",
       "      <th>unwilling_toAccept</th>\n",
       "      <th>scenario</th>\n",
       "      <th>sum_scores</th>\n",
       "      <th>salary</th>\n",
       "    </tr>\n",
       "  </thead>\n",
       "  <tbody>\n",
       "    <tr>\n",
       "      <th>8406</th>\n",
       "      <td>4</td>\n",
       "      <td>4</td>\n",
       "      <td>4</td>\n",
       "      <td>5</td>\n",
       "      <td>4</td>\n",
       "      <td>4</td>\n",
       "      <td>4</td>\n",
       "      <td>5</td>\n",
       "      <td>14076211</td>\n",
       "    </tr>\n",
       "    <tr>\n",
       "      <th>7202</th>\n",
       "      <td>3</td>\n",
       "      <td>4</td>\n",
       "      <td>1</td>\n",
       "      <td>8</td>\n",
       "      <td>2</td>\n",
       "      <td>3</td>\n",
       "      <td>3</td>\n",
       "      <td>4</td>\n",
       "      <td>20305432</td>\n",
       "    </tr>\n",
       "  </tbody>\n",
       "</table>\n",
       "</div>"
      ],
      "text/plain": [
       "      age  expenses  financial_status  experience  estimated_period  \\\n",
       "8406    4         4                 4           5                 4   \n",
       "7202    3         4                 1           8                 2   \n",
       "\n",
       "      unwilling_toAccept  scenario  sum_scores    salary  \n",
       "8406                   4         4           5  14076211  \n",
       "7202                   3         3           4  20305432  "
      ]
     },
     "execution_count": 7,
     "metadata": {},
     "output_type": "execute_result"
    }
   ],
   "source": [
    "#Splitting inference data\n",
    "inference = df.sample(2)\n",
    "inference"
   ]
  },
  {
   "attachments": {},
   "cell_type": "markdown",
   "metadata": {},
   "source": [
    "Dapat kita ketahui dataframe diatas untuk menampilkan satu data inference yang diambil."
   ]
  },
  {
   "cell_type": "code",
   "execution_count": 8,
   "metadata": {},
   "outputs": [],
   "source": [
    "#Dropping inferenced data\n",
    "df = df.drop(inference.index, axis = 0)"
   ]
  },
  {
   "cell_type": "code",
   "execution_count": 9,
   "metadata": {},
   "outputs": [],
   "source": [
    "X = df.drop('sum_scores',axis=1)\n",
    "y = df['sum_scores']\n",
    "\n",
    "X_train, X_test, y_train, y_test = train_test_split(X, y, test_size=0.25, random_state=42)"
   ]
  },
  {
   "cell_type": "code",
   "execution_count": 10,
   "metadata": {},
   "outputs": [
    {
     "name": "stdout",
     "output_type": "stream",
     "text": [
      "X_train shape :  (7498, 8)\n",
      "X_test shape :  (2500, 8)\n",
      "y_train shape :  (7498,)\n",
      "y_test shape :  (2500,)\n"
     ]
    }
   ],
   "source": [
    "print(f'X_train shape : ',X_train.shape)\n",
    "print(f'X_test shape : ',X_test.shape)\n",
    "print(f'y_train shape : ',y_train.shape)\n",
    "print(f'y_test shape : ',y_test.shape)"
   ]
  },
  {
   "attachments": {},
   "cell_type": "markdown",
   "metadata": {},
   "source": [
    "Proses pembagian data kedalam 3 dataframe, yaitu: \n",
    "- data train dengan besaran 75% dari data \n",
    "- data test dengan besaran 25% dari data \n",
    "\n",
    "Penentuan kolom target dan kolom feature yang dituliskan dengan y untuk target dan x untuk feature"
   ]
  },
  {
   "attachments": {},
   "cell_type": "markdown",
   "metadata": {},
   "source": [
    "## **PREPROCESSING PIPELINE**"
   ]
  },
  {
   "cell_type": "code",
   "execution_count": 11,
   "metadata": {},
   "outputs": [],
   "source": [
    "#Scaling on salary column\n",
    "num_pipeline = Pipeline([\n",
    "    ('scaler', StandardScaler())])\n",
    "\n",
    "num_tr = num_pipeline.fit_transform(X_train[['salary']])"
   ]
  },
  {
   "attachments": {},
   "cell_type": "markdown",
   "metadata": {},
   "source": [
    "Membuat fungsi pipeline untuk melakukan proses scaling untuk kolom salary."
   ]
  },
  {
   "cell_type": "code",
   "execution_count": 12,
   "metadata": {},
   "outputs": [
    {
     "data": {
      "text/plain": [
       "array([[-1.01191956,  1.        ,  1.        , ...,  1.        ,\n",
       "         1.        ,  1.        ],\n",
       "       [-0.28028641,  2.        ,  4.        , ...,  4.        ,\n",
       "         3.        ,  3.        ],\n",
       "       [ 1.64699015,  1.        ,  3.        , ...,  2.        ,\n",
       "         3.        ,  3.        ],\n",
       "       ...,\n",
       "       [ 1.32954285,  1.        ,  1.        , ...,  4.        ,\n",
       "         2.        ,  3.        ],\n",
       "       [ 0.21002971,  4.        ,  3.        , ...,  1.        ,\n",
       "         4.        ,  3.        ],\n",
       "       [ 1.57403839,  1.        ,  1.        , ...,  1.        ,\n",
       "         1.        ,  2.        ]])"
      ]
     },
     "execution_count": 12,
     "metadata": {},
     "output_type": "execute_result"
    }
   ],
   "source": [
    "#Creating a column transformer to transform salary columns\n",
    "full_pipeline = ColumnTransformer([\n",
    "        # (\"cat\", cat_pipeline, ['age','expenses','financial_status','experience','estimated_period','unwilling_toAccept','scenario']),\n",
    "        (\"num\", num_pipeline, ['salary'])\n",
    "    ], remainder='passthrough')\n",
    "\n",
    "train_tr = full_pipeline.fit_transform(X_train)\n",
    "train_tr"
   ]
  },
  {
   "cell_type": "code",
   "execution_count": 13,
   "metadata": {},
   "outputs": [
    {
     "data": {
      "text/plain": [
       "array([[ 0.55322842,  2.        ,  3.        , ...,  4.        ,\n",
       "         1.        ,  2.        ],\n",
       "       [ 0.2531943 ,  3.        ,  4.        , ...,  4.        ,\n",
       "         1.        ,  1.        ],\n",
       "       [-1.67932916,  3.        ,  1.        , ...,  4.        ,\n",
       "         1.        ,  3.        ],\n",
       "       ...,\n",
       "       [ 0.50615414,  2.        ,  2.        , ...,  1.        ,\n",
       "         4.        ,  2.        ],\n",
       "       [-0.11124835,  1.        ,  1.        , ...,  1.        ,\n",
       "         1.        ,  1.        ],\n",
       "       [ 1.39165595,  1.        ,  2.        , ...,  2.        ,\n",
       "         1.        ,  2.        ]])"
      ]
     },
     "execution_count": 13,
     "metadata": {},
     "output_type": "execute_result"
    }
   ],
   "source": [
    "test_tr = full_pipeline.transform(X_test)\n",
    "test_tr"
   ]
  },
  {
   "attachments": {},
   "cell_type": "markdown",
   "metadata": {},
   "source": [
    "## **FULL PIPELINE**"
   ]
  },
  {
   "attachments": {},
   "cell_type": "markdown",
   "metadata": {},
   "source": [
    "## 8.1 Model Definition"
   ]
  },
  {
   "attachments": {},
   "cell_type": "markdown",
   "metadata": {},
   "source": [
    "Pada bagian ini saya membuat model pembelajaran Machine Learning."
   ]
  },
  {
   "cell_type": "code",
   "execution_count": 14,
   "metadata": {},
   "outputs": [],
   "source": [
    "#Initiating SVC Model\n",
    "svc = SVC()"
   ]
  },
  {
   "cell_type": "code",
   "execution_count": 15,
   "metadata": {},
   "outputs": [],
   "source": [
    "#Initiating all process pipeline\n",
    "all_process = Pipeline([\n",
    "    (\"preprocessing\", full_pipeline),\n",
    "    (\"svc\", svc )\n",
    "])"
   ]
  },
  {
   "cell_type": "code",
   "execution_count": 16,
   "metadata": {},
   "outputs": [
    {
     "data": {
      "text/html": [
       "<style>#sk-container-id-1 {color: black;background-color: white;}#sk-container-id-1 pre{padding: 0;}#sk-container-id-1 div.sk-toggleable {background-color: white;}#sk-container-id-1 label.sk-toggleable__label {cursor: pointer;display: block;width: 100%;margin-bottom: 0;padding: 0.3em;box-sizing: border-box;text-align: center;}#sk-container-id-1 label.sk-toggleable__label-arrow:before {content: \"▸\";float: left;margin-right: 0.25em;color: #696969;}#sk-container-id-1 label.sk-toggleable__label-arrow:hover:before {color: black;}#sk-container-id-1 div.sk-estimator:hover label.sk-toggleable__label-arrow:before {color: black;}#sk-container-id-1 div.sk-toggleable__content {max-height: 0;max-width: 0;overflow: hidden;text-align: left;background-color: #f0f8ff;}#sk-container-id-1 div.sk-toggleable__content pre {margin: 0.2em;color: black;border-radius: 0.25em;background-color: #f0f8ff;}#sk-container-id-1 input.sk-toggleable__control:checked~div.sk-toggleable__content {max-height: 200px;max-width: 100%;overflow: auto;}#sk-container-id-1 input.sk-toggleable__control:checked~label.sk-toggleable__label-arrow:before {content: \"▾\";}#sk-container-id-1 div.sk-estimator input.sk-toggleable__control:checked~label.sk-toggleable__label {background-color: #d4ebff;}#sk-container-id-1 div.sk-label input.sk-toggleable__control:checked~label.sk-toggleable__label {background-color: #d4ebff;}#sk-container-id-1 input.sk-hidden--visually {border: 0;clip: rect(1px 1px 1px 1px);clip: rect(1px, 1px, 1px, 1px);height: 1px;margin: -1px;overflow: hidden;padding: 0;position: absolute;width: 1px;}#sk-container-id-1 div.sk-estimator {font-family: monospace;background-color: #f0f8ff;border: 1px dotted black;border-radius: 0.25em;box-sizing: border-box;margin-bottom: 0.5em;}#sk-container-id-1 div.sk-estimator:hover {background-color: #d4ebff;}#sk-container-id-1 div.sk-parallel-item::after {content: \"\";width: 100%;border-bottom: 1px solid gray;flex-grow: 1;}#sk-container-id-1 div.sk-label:hover label.sk-toggleable__label {background-color: #d4ebff;}#sk-container-id-1 div.sk-serial::before {content: \"\";position: absolute;border-left: 1px solid gray;box-sizing: border-box;top: 0;bottom: 0;left: 50%;z-index: 0;}#sk-container-id-1 div.sk-serial {display: flex;flex-direction: column;align-items: center;background-color: white;padding-right: 0.2em;padding-left: 0.2em;position: relative;}#sk-container-id-1 div.sk-item {position: relative;z-index: 1;}#sk-container-id-1 div.sk-parallel {display: flex;align-items: stretch;justify-content: center;background-color: white;position: relative;}#sk-container-id-1 div.sk-item::before, #sk-container-id-1 div.sk-parallel-item::before {content: \"\";position: absolute;border-left: 1px solid gray;box-sizing: border-box;top: 0;bottom: 0;left: 50%;z-index: -1;}#sk-container-id-1 div.sk-parallel-item {display: flex;flex-direction: column;z-index: 1;position: relative;background-color: white;}#sk-container-id-1 div.sk-parallel-item:first-child::after {align-self: flex-end;width: 50%;}#sk-container-id-1 div.sk-parallel-item:last-child::after {align-self: flex-start;width: 50%;}#sk-container-id-1 div.sk-parallel-item:only-child::after {width: 0;}#sk-container-id-1 div.sk-dashed-wrapped {border: 1px dashed gray;margin: 0 0.4em 0.5em 0.4em;box-sizing: border-box;padding-bottom: 0.4em;background-color: white;}#sk-container-id-1 div.sk-label label {font-family: monospace;font-weight: bold;display: inline-block;line-height: 1.2em;}#sk-container-id-1 div.sk-label-container {text-align: center;}#sk-container-id-1 div.sk-container {/* jupyter's `normalize.less` sets `[hidden] { display: none; }` but bootstrap.min.css set `[hidden] { display: none !important; }` so we also need the `!important` here to be able to override the default hidden behavior on the sphinx rendered scikit-learn.org. See: https://github.com/scikit-learn/scikit-learn/issues/21755 */display: inline-block !important;position: relative;}#sk-container-id-1 div.sk-text-repr-fallback {display: none;}</style><div id=\"sk-container-id-1\" class=\"sk-top-container\"><div class=\"sk-text-repr-fallback\"><pre>Pipeline(steps=[(&#x27;preprocessing&#x27;,\n",
       "                 ColumnTransformer(remainder=&#x27;passthrough&#x27;,\n",
       "                                   transformers=[(&#x27;num&#x27;,\n",
       "                                                  Pipeline(steps=[(&#x27;scaler&#x27;,\n",
       "                                                                   StandardScaler())]),\n",
       "                                                  [&#x27;salary&#x27;])])),\n",
       "                (&#x27;svc&#x27;, SVC())])</pre><b>In a Jupyter environment, please rerun this cell to show the HTML representation or trust the notebook. <br />On GitHub, the HTML representation is unable to render, please try loading this page with nbviewer.org.</b></div><div class=\"sk-container\" hidden><div class=\"sk-item sk-dashed-wrapped\"><div class=\"sk-label-container\"><div class=\"sk-label sk-toggleable\"><input class=\"sk-toggleable__control sk-hidden--visually\" id=\"sk-estimator-id-1\" type=\"checkbox\" ><label for=\"sk-estimator-id-1\" class=\"sk-toggleable__label sk-toggleable__label-arrow\">Pipeline</label><div class=\"sk-toggleable__content\"><pre>Pipeline(steps=[(&#x27;preprocessing&#x27;,\n",
       "                 ColumnTransformer(remainder=&#x27;passthrough&#x27;,\n",
       "                                   transformers=[(&#x27;num&#x27;,\n",
       "                                                  Pipeline(steps=[(&#x27;scaler&#x27;,\n",
       "                                                                   StandardScaler())]),\n",
       "                                                  [&#x27;salary&#x27;])])),\n",
       "                (&#x27;svc&#x27;, SVC())])</pre></div></div></div><div class=\"sk-serial\"><div class=\"sk-item sk-dashed-wrapped\"><div class=\"sk-label-container\"><div class=\"sk-label sk-toggleable\"><input class=\"sk-toggleable__control sk-hidden--visually\" id=\"sk-estimator-id-2\" type=\"checkbox\" ><label for=\"sk-estimator-id-2\" class=\"sk-toggleable__label sk-toggleable__label-arrow\">preprocessing: ColumnTransformer</label><div class=\"sk-toggleable__content\"><pre>ColumnTransformer(remainder=&#x27;passthrough&#x27;,\n",
       "                  transformers=[(&#x27;num&#x27;,\n",
       "                                 Pipeline(steps=[(&#x27;scaler&#x27;, StandardScaler())]),\n",
       "                                 [&#x27;salary&#x27;])])</pre></div></div></div><div class=\"sk-parallel\"><div class=\"sk-parallel-item\"><div class=\"sk-item\"><div class=\"sk-label-container\"><div class=\"sk-label sk-toggleable\"><input class=\"sk-toggleable__control sk-hidden--visually\" id=\"sk-estimator-id-3\" type=\"checkbox\" ><label for=\"sk-estimator-id-3\" class=\"sk-toggleable__label sk-toggleable__label-arrow\">num</label><div class=\"sk-toggleable__content\"><pre>[&#x27;salary&#x27;]</pre></div></div></div><div class=\"sk-serial\"><div class=\"sk-item\"><div class=\"sk-serial\"><div class=\"sk-item\"><div class=\"sk-estimator sk-toggleable\"><input class=\"sk-toggleable__control sk-hidden--visually\" id=\"sk-estimator-id-4\" type=\"checkbox\" ><label for=\"sk-estimator-id-4\" class=\"sk-toggleable__label sk-toggleable__label-arrow\">StandardScaler</label><div class=\"sk-toggleable__content\"><pre>StandardScaler()</pre></div></div></div></div></div></div></div></div><div class=\"sk-parallel-item\"><div class=\"sk-item\"><div class=\"sk-label-container\"><div class=\"sk-label sk-toggleable\"><input class=\"sk-toggleable__control sk-hidden--visually\" id=\"sk-estimator-id-5\" type=\"checkbox\" ><label for=\"sk-estimator-id-5\" class=\"sk-toggleable__label sk-toggleable__label-arrow\">remainder</label><div class=\"sk-toggleable__content\"><pre>[&#x27;age&#x27;, &#x27;expenses&#x27;, &#x27;financial_status&#x27;, &#x27;experience&#x27;, &#x27;estimated_period&#x27;, &#x27;unwilling_toAccept&#x27;, &#x27;scenario&#x27;]</pre></div></div></div><div class=\"sk-serial\"><div class=\"sk-item\"><div class=\"sk-estimator sk-toggleable\"><input class=\"sk-toggleable__control sk-hidden--visually\" id=\"sk-estimator-id-6\" type=\"checkbox\" ><label for=\"sk-estimator-id-6\" class=\"sk-toggleable__label sk-toggleable__label-arrow\">passthrough</label><div class=\"sk-toggleable__content\"><pre>passthrough</pre></div></div></div></div></div></div></div></div><div class=\"sk-item\"><div class=\"sk-estimator sk-toggleable\"><input class=\"sk-toggleable__control sk-hidden--visually\" id=\"sk-estimator-id-7\" type=\"checkbox\" ><label for=\"sk-estimator-id-7\" class=\"sk-toggleable__label sk-toggleable__label-arrow\">SVC</label><div class=\"sk-toggleable__content\"><pre>SVC()</pre></div></div></div></div></div></div></div>"
      ],
      "text/plain": [
       "Pipeline(steps=[('preprocessing',\n",
       "                 ColumnTransformer(remainder='passthrough',\n",
       "                                   transformers=[('num',\n",
       "                                                  Pipeline(steps=[('scaler',\n",
       "                                                                   StandardScaler())]),\n",
       "                                                  ['salary'])])),\n",
       "                ('svc', SVC())])"
      ]
     },
     "execution_count": 16,
     "metadata": {},
     "output_type": "execute_result"
    }
   ],
   "source": [
    "all_process.fit(X_train, y_train)"
   ]
  },
  {
   "cell_type": "code",
   "execution_count": 17,
   "metadata": {},
   "outputs": [],
   "source": [
    "train_result = all_process.predict(X_train)\n",
    "test_result = all_process.predict(X_test)"
   ]
  },
  {
   "cell_type": "code",
   "execution_count": 18,
   "metadata": {},
   "outputs": [
    {
     "name": "stdout",
     "output_type": "stream",
     "text": [
      "======================================== TRAINING ========================================\n",
      "              precision    recall  f1-score   support\n",
      "\n",
      "           1       1.00      0.99      1.00       911\n",
      "           2       0.99      1.00      0.99       770\n",
      "           3       1.00      1.00      1.00      3412\n",
      "           4       0.98      1.00      0.99      1661\n",
      "           5       1.00      0.95      0.97       744\n",
      "\n",
      "    accuracy                           0.99      7498\n",
      "   macro avg       0.99      0.99      0.99      7498\n",
      "weighted avg       0.99      0.99      0.99      7498\n",
      "\n",
      "======================================== TEST ========================================\n",
      "              precision    recall  f1-score   support\n",
      "\n",
      "           1       1.00      0.99      0.99       308\n",
      "           2       0.98      0.99      0.99       245\n",
      "           3       1.00      1.00      1.00      1153\n",
      "           4       0.97      1.00      0.98       546\n",
      "           5       1.00      0.94      0.97       248\n",
      "\n",
      "    accuracy                           0.99      2500\n",
      "   macro avg       0.99      0.98      0.99      2500\n",
      "weighted avg       0.99      0.99      0.99      2500\n",
      "\n"
     ]
    }
   ],
   "source": [
    "print(\"==\"*20,\"TRAINING\",\"==\"*20)\n",
    "print(classification_report(y_train,train_result,zero_division=0))\n",
    "print(\"==\"*20,\"TEST\",\"==\"*20)\n",
    "print(classification_report(y_test,test_result,zero_division=0))"
   ]
  },
  {
   "attachments": {},
   "cell_type": "markdown",
   "metadata": {},
   "source": [
    "Berdasarkan performansi model SVM dilakukan, dapat diinterpretasi sebagai berikut:\n",
    "\n",
    "1. Pada Model SVM menggunakan parameter baseline memiliki model yang bestfit, dikarnakan performa test memiliki selisih yang tidak terlalu besar dengan performa train.\n",
    "2. Dan model SVM memiliki nilai recall pada data testing yaitu sebesar 99% yang berarti kesalahan negatifnya tidak terlalu besar. Sehingga dapat disimpulkan model sudah dikategorikan baik"
   ]
  },
  {
   "attachments": {},
   "cell_type": "markdown",
   "metadata": {},
   "source": [
    "## **INFERENCE**"
   ]
  },
  {
   "cell_type": "code",
   "execution_count": 19,
   "metadata": {},
   "outputs": [],
   "source": [
    "inference = inference[['salary','age','expenses','financial_status','experience','estimated_period','unwilling_toAccept','scenario']]"
   ]
  },
  {
   "attachments": {},
   "cell_type": "markdown",
   "metadata": {},
   "source": [
    "Predict model inference menggunakan pipeline"
   ]
  },
  {
   "cell_type": "code",
   "execution_count": 20,
   "metadata": {},
   "outputs": [
    {
     "data": {
      "text/plain": [
       "array([5, 4], dtype=int64)"
      ]
     },
     "execution_count": 20,
     "metadata": {},
     "output_type": "execute_result"
    }
   ],
   "source": [
    "# full_pipeline.transform(inference)\n",
    "all_process.predict(inference)"
   ]
  },
  {
   "attachments": {},
   "cell_type": "markdown",
   "metadata": {},
   "source": [
    "save pipeline model inference"
   ]
  },
  {
   "cell_type": "code",
   "execution_count": 21,
   "metadata": {},
   "outputs": [],
   "source": [
    "# save pipeline\n",
    "pickle.dump(full_pipeline, open(\"full_model.pkl\", \"wb\"))\n",
    "# save model\n",
    "pickle.dump(svc, open('model.pkl', 'wb'))"
   ]
  },
  {
   "attachments": {},
   "cell_type": "markdown",
   "metadata": {},
   "source": [
    "#### **TESTING THE SAVED MODEL**"
   ]
  },
  {
   "cell_type": "code",
   "execution_count": 22,
   "metadata": {},
   "outputs": [],
   "source": [
    "model = pickle.load(open(\"full_model.pkl\", \"rb\"))"
   ]
  },
  {
   "cell_type": "code",
   "execution_count": 23,
   "metadata": {},
   "outputs": [
    {
     "data": {
      "text/html": [
       "<div>\n",
       "<style scoped>\n",
       "    .dataframe tbody tr th:only-of-type {\n",
       "        vertical-align: middle;\n",
       "    }\n",
       "\n",
       "    .dataframe tbody tr th {\n",
       "        vertical-align: top;\n",
       "    }\n",
       "\n",
       "    .dataframe thead th {\n",
       "        text-align: right;\n",
       "    }\n",
       "</style>\n",
       "<table border=\"1\" class=\"dataframe\">\n",
       "  <thead>\n",
       "    <tr style=\"text-align: right;\">\n",
       "      <th></th>\n",
       "      <th>salary</th>\n",
       "      <th>age</th>\n",
       "      <th>expenses</th>\n",
       "      <th>financial_status</th>\n",
       "      <th>experience</th>\n",
       "      <th>estimated_period</th>\n",
       "      <th>unwilling_toAccept</th>\n",
       "      <th>scenario</th>\n",
       "    </tr>\n",
       "  </thead>\n",
       "  <tbody>\n",
       "    <tr>\n",
       "      <th>8406</th>\n",
       "      <td>14076211</td>\n",
       "      <td>4</td>\n",
       "      <td>4</td>\n",
       "      <td>4</td>\n",
       "      <td>5</td>\n",
       "      <td>4</td>\n",
       "      <td>4</td>\n",
       "      <td>4</td>\n",
       "    </tr>\n",
       "  </tbody>\n",
       "</table>\n",
       "</div>"
      ],
      "text/plain": [
       "        salary  age  expenses  financial_status  experience  estimated_period  \\\n",
       "8406  14076211    4         4                 4           5                 4   \n",
       "\n",
       "      unwilling_toAccept  scenario  \n",
       "8406                   4         4  "
      ]
     },
     "execution_count": 23,
     "metadata": {},
     "output_type": "execute_result"
    }
   ],
   "source": [
    "inf = inference.head(1)\n",
    "inf"
   ]
  },
  {
   "cell_type": "code",
   "execution_count": 27,
   "metadata": {},
   "outputs": [
    {
     "data": {
      "text/plain": [
       "5"
      ]
     },
     "execution_count": 27,
     "metadata": {},
     "output_type": "execute_result"
    }
   ],
   "source": [
    "# pipeline model predict input data\n",
    "Category = all_process.predict(inf).tolist()[0]\n",
    "Category"
   ]
  },
  {
   "attachments": {},
   "cell_type": "markdown",
   "metadata": {},
   "source": [
    "# **10. CONCLUSION**"
   ]
  },
  {
   "attachments": {},
   "cell_type": "markdown",
   "metadata": {},
   "source": [
    "Dari Overall analysis dapat disimpulkan bahwa : \n",
    "1. Pada final project ini dilakukan pembuatan model machine learning Supervised Classification untuk mengetahui risk profile customer yang terdiri dari 10.000 entri data dan 8 kolom.\n",
    "2. Dilakukan pembuatan pipeline pada proses preprocessing dan modeling\n",
    "3. Risk Profile Customer ditentukan dari kuesioner nasabah yang akan melakukan investasi reksa dana.\n",
    "4. Rekomendasi klasifikasi Reksa Dana berdasarkan Risk Profile yaitu : \n",
    "   ```\n",
    "   a. Low Risk (Very Cautious)\n",
    "   b. Low to moderate Risk (Cautious)\n",
    "   c. Moderate to moderately high risk (Balanced)\n",
    "   d. High Risk (Adventurous)\n",
    "   e. Very High risk (Speculative)\n",
    "   ```\n",
    "5. Model Machine Learning yang digunakan yaitu Model SVM\n",
    "6. Berdasarkan hasil diperoleh model terbaik yaitu model SVM dengan nilai accuracy 99%\n"
   ]
  },
  {
   "cell_type": "markdown",
   "metadata": {},
   "source": []
  }
 ],
 "metadata": {
  "kernelspec": {
   "display_name": "base",
   "language": "python",
   "name": "python3"
  },
  "language_info": {
   "codemirror_mode": {
    "name": "ipython",
    "version": 3
   },
   "file_extension": ".py",
   "mimetype": "text/x-python",
   "name": "python",
   "nbconvert_exporter": "python",
   "pygments_lexer": "ipython3",
   "version": "3.9.12"
  },
  "orig_nbformat": 4,
  "vscode": {
   "interpreter": {
    "hash": "7679c2132d3f6ce38c9df14d554b39c06862b36a4e6689c81f9ae15bd0911d7d"
   }
  }
 },
 "nbformat": 4,
 "nbformat_minor": 2
}
