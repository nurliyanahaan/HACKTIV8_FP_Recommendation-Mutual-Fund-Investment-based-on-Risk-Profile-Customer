{
 "cells": [
  {
   "attachments": {},
   "cell_type": "markdown",
   "metadata": {},
   "source": [
    "# **Final Project**"
   ]
  },
  {
   "attachments": {},
   "cell_type": "markdown",
   "metadata": {},
   "source": [
    "**Mutual Fund Investment Recomendation based on Risk Profile Customer**"
   ]
  },
  {
   "attachments": {},
   "cell_type": "markdown",
   "metadata": {},
   "source": [
    "**Notebook Forecasting - MNC DANA LANCAR**"
   ]
  },
  {
   "attachments": {},
   "cell_type": "markdown",
   "metadata": {},
   "source": [
    "##  **1. Introduction** "
   ]
  },
  {
   "attachments": {},
   "cell_type": "markdown",
   "metadata": {},
   "source": [
    "**Group name : Anminve$ting**\n",
    "\n",
    "\n",
    "Member:\n",
    "\n",
    "- Aan Nurliyanah\n",
    "- Ajeng Nilta Adriani\n",
    "- Fachmi Maris\n",
    "- Muhammad Fawwaz Dynoeputra\n",
    "- Ropiudin \n",
    "\n",
    "\n",
    "## Problem Statement\n",
    "The risk in investment is the fundamental which everyone should know and understand. \n",
    "However, the main problem that usually found that the new investor does’nt understand where the differences between high risk and low risk. For that, we want to build a recomendation for customer how to choose Mutual fund Investment based on risk profile customer. \n",
    "                                                                                                                "
   ]
  },
  {
   "attachments": {},
   "cell_type": "markdown",
   "metadata": {},
   "source": [
    "## **2. Import Libraries** "
   ]
  },
  {
   "cell_type": "code",
   "execution_count": 1,
   "metadata": {},
   "outputs": [],
   "source": [
    "# using for change data type\n",
    "from datetime import datetime\n",
    "\n",
    "# using for calculation\n",
    "import numpy as np\n",
    "import pandas as pd\n",
    "\n",
    "# using for visualization\n",
    "import matplotlib.pylab as plt\n",
    "%matplotlib inline\n",
    "\n",
    "\n",
    "# using for model evaluation \n",
    "from sklearn.metrics import mean_squared_error\n",
    "from sklearn.metrics import mean_absolute_error\n",
    "from sklearn.metrics import mean_absolute_percentage_error\n",
    "\n",
    "\n",
    "# using for visualization foreacsting\n",
    "from statsmodels.tsa.seasonal import seasonal_decompose\n",
    "\n",
    "\n",
    "# using for Modeling\n",
    "from statsmodels.tsa.arima.model import ARIMA\n",
    "from pmdarima.arima import auto_arima\n",
    "\n",
    "\n",
    "import warnings\n",
    "warnings.filterwarnings(action='ignore')"
   ]
  },
  {
   "attachments": {},
   "cell_type": "markdown",
   "metadata": {},
   "source": [
    "## **3. Data Loading** "
   ]
  },
  {
   "attachments": {},
   "cell_type": "markdown",
   "metadata": {},
   "source": [
    "Data loading using pd.read_csv, source of dataset is from investing.com in Funds part , dataset date from last 5 years per week."
   ]
  },
  {
   "cell_type": "code",
   "execution_count": 2,
   "metadata": {},
   "outputs": [],
   "source": [
    "df= pd.read_csv('MNC Dana Lancar.csv')"
   ]
  },
  {
   "cell_type": "code",
   "execution_count": 3,
   "metadata": {},
   "outputs": [
    {
     "data": {
      "text/html": [
       "<div>\n",
       "<style scoped>\n",
       "    .dataframe tbody tr th:only-of-type {\n",
       "        vertical-align: middle;\n",
       "    }\n",
       "\n",
       "    .dataframe tbody tr th {\n",
       "        vertical-align: top;\n",
       "    }\n",
       "\n",
       "    .dataframe thead th {\n",
       "        text-align: right;\n",
       "    }\n",
       "</style>\n",
       "<table border=\"1\" class=\"dataframe\">\n",
       "  <thead>\n",
       "    <tr style=\"text-align: right;\">\n",
       "      <th></th>\n",
       "      <th>Date</th>\n",
       "      <th>Price</th>\n",
       "      <th>Open</th>\n",
       "      <th>High</th>\n",
       "      <th>Low</th>\n",
       "      <th>Change %</th>\n",
       "    </tr>\n",
       "  </thead>\n",
       "  <tbody>\n",
       "    <tr>\n",
       "      <th>0</th>\n",
       "      <td>Dec 11, 2022</td>\n",
       "      <td>1,713.370</td>\n",
       "      <td>1,712.612</td>\n",
       "      <td>1,713.370</td>\n",
       "      <td>1,712.612</td>\n",
       "      <td>0.08%</td>\n",
       "    </tr>\n",
       "    <tr>\n",
       "      <th>1</th>\n",
       "      <td>Dec 04, 2022</td>\n",
       "      <td>1,712.027</td>\n",
       "      <td>1,711.240</td>\n",
       "      <td>1,712.027</td>\n",
       "      <td>1,711.240</td>\n",
       "      <td>0.08%</td>\n",
       "    </tr>\n",
       "    <tr>\n",
       "      <th>2</th>\n",
       "      <td>Nov 27, 2022</td>\n",
       "      <td>1,710.659</td>\n",
       "      <td>1,709.877</td>\n",
       "      <td>1,710.659</td>\n",
       "      <td>1,709.877</td>\n",
       "      <td>0.08%</td>\n",
       "    </tr>\n",
       "    <tr>\n",
       "      <th>3</th>\n",
       "      <td>Nov 20, 2022</td>\n",
       "      <td>1,709.353</td>\n",
       "      <td>1,708.646</td>\n",
       "      <td>1,709.353</td>\n",
       "      <td>1,708.646</td>\n",
       "      <td>0.07%</td>\n",
       "    </tr>\n",
       "    <tr>\n",
       "      <th>4</th>\n",
       "      <td>Nov 13, 2022</td>\n",
       "      <td>1,708.118</td>\n",
       "      <td>1,707.413</td>\n",
       "      <td>1,708.118</td>\n",
       "      <td>1,707.413</td>\n",
       "      <td>0.07%</td>\n",
       "    </tr>\n",
       "    <tr>\n",
       "      <th>...</th>\n",
       "      <td>...</td>\n",
       "      <td>...</td>\n",
       "      <td>...</td>\n",
       "      <td>...</td>\n",
       "      <td>...</td>\n",
       "      <td>...</td>\n",
       "    </tr>\n",
       "    <tr>\n",
       "      <th>173</th>\n",
       "      <td>Aug 04, 2019</td>\n",
       "      <td>1,479.402</td>\n",
       "      <td>1,478.203</td>\n",
       "      <td>1,479.402</td>\n",
       "      <td>1,478.203</td>\n",
       "      <td>0.10%</td>\n",
       "    </tr>\n",
       "    <tr>\n",
       "      <th>174</th>\n",
       "      <td>Jul 28, 2019</td>\n",
       "      <td>1,477.997</td>\n",
       "      <td>1,476.913</td>\n",
       "      <td>1,477.997</td>\n",
       "      <td>1,476.913</td>\n",
       "      <td>0.09%</td>\n",
       "    </tr>\n",
       "    <tr>\n",
       "      <th>175</th>\n",
       "      <td>Jul 21, 2019</td>\n",
       "      <td>1,476.718</td>\n",
       "      <td>1,475.577</td>\n",
       "      <td>1,476.718</td>\n",
       "      <td>1,475.577</td>\n",
       "      <td>0.09%</td>\n",
       "    </tr>\n",
       "    <tr>\n",
       "      <th>176</th>\n",
       "      <td>Jul 14, 2019</td>\n",
       "      <td>1,475.396</td>\n",
       "      <td>1,474.290</td>\n",
       "      <td>1,475.396</td>\n",
       "      <td>1,474.290</td>\n",
       "      <td>0.09%</td>\n",
       "    </tr>\n",
       "    <tr>\n",
       "      <th>177</th>\n",
       "      <td>Jul 07, 2019</td>\n",
       "      <td>1,474.101</td>\n",
       "      <td>1,472.998</td>\n",
       "      <td>1,474.101</td>\n",
       "      <td>1,472.998</td>\n",
       "      <td>0.09%</td>\n",
       "    </tr>\n",
       "  </tbody>\n",
       "</table>\n",
       "<p>178 rows × 6 columns</p>\n",
       "</div>"
      ],
      "text/plain": [
       "             Date      Price       Open       High        Low Change %\n",
       "0    Dec 11, 2022  1,713.370  1,712.612  1,713.370  1,712.612    0.08%\n",
       "1    Dec 04, 2022  1,712.027  1,711.240  1,712.027  1,711.240    0.08%\n",
       "2    Nov 27, 2022  1,710.659  1,709.877  1,710.659  1,709.877    0.08%\n",
       "3    Nov 20, 2022  1,709.353  1,708.646  1,709.353  1,708.646    0.07%\n",
       "4    Nov 13, 2022  1,708.118  1,707.413  1,708.118  1,707.413    0.07%\n",
       "..            ...        ...        ...        ...        ...      ...\n",
       "173  Aug 04, 2019  1,479.402  1,478.203  1,479.402  1,478.203    0.10%\n",
       "174  Jul 28, 2019  1,477.997  1,476.913  1,477.997  1,476.913    0.09%\n",
       "175  Jul 21, 2019  1,476.718  1,475.577  1,476.718  1,475.577    0.09%\n",
       "176  Jul 14, 2019  1,475.396  1,474.290  1,475.396  1,474.290    0.09%\n",
       "177  Jul 07, 2019  1,474.101  1,472.998  1,474.101  1,472.998    0.09%\n",
       "\n",
       "[178 rows x 6 columns]"
      ]
     },
     "execution_count": 3,
     "metadata": {},
     "output_type": "execute_result"
    }
   ],
   "source": [
    "df"
   ]
  },
  {
   "attachments": {},
   "cell_type": "markdown",
   "metadata": {},
   "source": [
    "Using data info to see description from the dataset "
   ]
  },
  {
   "cell_type": "code",
   "execution_count": 4,
   "metadata": {},
   "outputs": [
    {
     "name": "stdout",
     "output_type": "stream",
     "text": [
      "<class 'pandas.core.frame.DataFrame'>\n",
      "RangeIndex: 178 entries, 0 to 177\n",
      "Data columns (total 6 columns):\n",
      " #   Column    Non-Null Count  Dtype \n",
      "---  ------    --------------  ----- \n",
      " 0   Date      178 non-null    object\n",
      " 1   Price     178 non-null    object\n",
      " 2   Open      178 non-null    object\n",
      " 3   High      178 non-null    object\n",
      " 4   Low       178 non-null    object\n",
      " 5   Change %  178 non-null    object\n",
      "dtypes: object(6)\n",
      "memory usage: 8.5+ KB\n"
     ]
    }
   ],
   "source": [
    "df.info()"
   ]
  },
  {
   "attachments": {},
   "cell_type": "markdown",
   "metadata": {},
   "source": [
    "## **4. Data Cleaning**"
   ]
  },
  {
   "attachments": {},
   "cell_type": "markdown",
   "metadata": {},
   "source": [
    "- Replace string ',' in columns ['Price',\t'Open',\t'High',\t'Low'], and change type from object to float.\n",
    "- Replace '%' in columns 'change %', and change type from object to flat.\n",
    "- Change column 'date' from object to datetime"
   ]
  },
  {
   "cell_type": "code",
   "execution_count": 5,
   "metadata": {},
   "outputs": [],
   "source": [
    "col = ['Price',\t'Open',\t'High',\t'Low']\n",
    "\n",
    "for i in col:\n",
    "\n",
    "    df[i] = (df[i]\n",
    "                # .str.replace(\".\",\"\")\n",
    "                .str.replace(\",\",\"\")\n",
    "                .astype(float)\n",
    "                )\n",
    "\n",
    "df['Change %'] = (df['Change %']\n",
    "                .str.replace(\"%\",\" \")\n",
    "                # .str.replace(\",\",\".\")\n",
    "                .astype(float)\n",
    "                )\n",
    "\n",
    "df[\"Date\"] = pd.to_datetime(df[\"Date\"])"
   ]
  },
  {
   "cell_type": "code",
   "execution_count": 6,
   "metadata": {},
   "outputs": [
    {
     "name": "stdout",
     "output_type": "stream",
     "text": [
      "<class 'pandas.core.frame.DataFrame'>\n",
      "RangeIndex: 178 entries, 0 to 177\n",
      "Data columns (total 6 columns):\n",
      " #   Column    Non-Null Count  Dtype         \n",
      "---  ------    --------------  -----         \n",
      " 0   Date      178 non-null    datetime64[ns]\n",
      " 1   Price     178 non-null    float64       \n",
      " 2   Open      178 non-null    float64       \n",
      " 3   High      178 non-null    float64       \n",
      " 4   Low       178 non-null    float64       \n",
      " 5   Change %  178 non-null    float64       \n",
      "dtypes: datetime64[ns](1), float64(5)\n",
      "memory usage: 8.5 KB\n"
     ]
    }
   ],
   "source": [
    "df.info()"
   ]
  },
  {
   "cell_type": "code",
   "execution_count": 7,
   "metadata": {},
   "outputs": [
    {
     "data": {
      "text/html": [
       "<div>\n",
       "<style scoped>\n",
       "    .dataframe tbody tr th:only-of-type {\n",
       "        vertical-align: middle;\n",
       "    }\n",
       "\n",
       "    .dataframe tbody tr th {\n",
       "        vertical-align: top;\n",
       "    }\n",
       "\n",
       "    .dataframe thead th {\n",
       "        text-align: right;\n",
       "    }\n",
       "</style>\n",
       "<table border=\"1\" class=\"dataframe\">\n",
       "  <thead>\n",
       "    <tr style=\"text-align: right;\">\n",
       "      <th></th>\n",
       "      <th>Date</th>\n",
       "      <th>Price</th>\n",
       "      <th>Open</th>\n",
       "      <th>High</th>\n",
       "      <th>Low</th>\n",
       "      <th>Change %</th>\n",
       "    </tr>\n",
       "  </thead>\n",
       "  <tbody>\n",
       "    <tr>\n",
       "      <th>0</th>\n",
       "      <td>2022-12-11</td>\n",
       "      <td>1713.370</td>\n",
       "      <td>1712.612</td>\n",
       "      <td>1713.370</td>\n",
       "      <td>1712.612</td>\n",
       "      <td>0.08</td>\n",
       "    </tr>\n",
       "    <tr>\n",
       "      <th>1</th>\n",
       "      <td>2022-12-04</td>\n",
       "      <td>1712.027</td>\n",
       "      <td>1711.240</td>\n",
       "      <td>1712.027</td>\n",
       "      <td>1711.240</td>\n",
       "      <td>0.08</td>\n",
       "    </tr>\n",
       "    <tr>\n",
       "      <th>2</th>\n",
       "      <td>2022-11-27</td>\n",
       "      <td>1710.659</td>\n",
       "      <td>1709.877</td>\n",
       "      <td>1710.659</td>\n",
       "      <td>1709.877</td>\n",
       "      <td>0.08</td>\n",
       "    </tr>\n",
       "    <tr>\n",
       "      <th>3</th>\n",
       "      <td>2022-11-20</td>\n",
       "      <td>1709.353</td>\n",
       "      <td>1708.646</td>\n",
       "      <td>1709.353</td>\n",
       "      <td>1708.646</td>\n",
       "      <td>0.07</td>\n",
       "    </tr>\n",
       "    <tr>\n",
       "      <th>4</th>\n",
       "      <td>2022-11-13</td>\n",
       "      <td>1708.118</td>\n",
       "      <td>1707.413</td>\n",
       "      <td>1708.118</td>\n",
       "      <td>1707.413</td>\n",
       "      <td>0.07</td>\n",
       "    </tr>\n",
       "    <tr>\n",
       "      <th>...</th>\n",
       "      <td>...</td>\n",
       "      <td>...</td>\n",
       "      <td>...</td>\n",
       "      <td>...</td>\n",
       "      <td>...</td>\n",
       "      <td>...</td>\n",
       "    </tr>\n",
       "    <tr>\n",
       "      <th>173</th>\n",
       "      <td>2019-08-04</td>\n",
       "      <td>1479.402</td>\n",
       "      <td>1478.203</td>\n",
       "      <td>1479.402</td>\n",
       "      <td>1478.203</td>\n",
       "      <td>0.10</td>\n",
       "    </tr>\n",
       "    <tr>\n",
       "      <th>174</th>\n",
       "      <td>2019-07-28</td>\n",
       "      <td>1477.997</td>\n",
       "      <td>1476.913</td>\n",
       "      <td>1477.997</td>\n",
       "      <td>1476.913</td>\n",
       "      <td>0.09</td>\n",
       "    </tr>\n",
       "    <tr>\n",
       "      <th>175</th>\n",
       "      <td>2019-07-21</td>\n",
       "      <td>1476.718</td>\n",
       "      <td>1475.577</td>\n",
       "      <td>1476.718</td>\n",
       "      <td>1475.577</td>\n",
       "      <td>0.09</td>\n",
       "    </tr>\n",
       "    <tr>\n",
       "      <th>176</th>\n",
       "      <td>2019-07-14</td>\n",
       "      <td>1475.396</td>\n",
       "      <td>1474.290</td>\n",
       "      <td>1475.396</td>\n",
       "      <td>1474.290</td>\n",
       "      <td>0.09</td>\n",
       "    </tr>\n",
       "    <tr>\n",
       "      <th>177</th>\n",
       "      <td>2019-07-07</td>\n",
       "      <td>1474.101</td>\n",
       "      <td>1472.998</td>\n",
       "      <td>1474.101</td>\n",
       "      <td>1472.998</td>\n",
       "      <td>0.09</td>\n",
       "    </tr>\n",
       "  </tbody>\n",
       "</table>\n",
       "<p>178 rows × 6 columns</p>\n",
       "</div>"
      ],
      "text/plain": [
       "          Date     Price      Open      High       Low  Change %\n",
       "0   2022-12-11  1713.370  1712.612  1713.370  1712.612      0.08\n",
       "1   2022-12-04  1712.027  1711.240  1712.027  1711.240      0.08\n",
       "2   2022-11-27  1710.659  1709.877  1710.659  1709.877      0.08\n",
       "3   2022-11-20  1709.353  1708.646  1709.353  1708.646      0.07\n",
       "4   2022-11-13  1708.118  1707.413  1708.118  1707.413      0.07\n",
       "..         ...       ...       ...       ...       ...       ...\n",
       "173 2019-08-04  1479.402  1478.203  1479.402  1478.203      0.10\n",
       "174 2019-07-28  1477.997  1476.913  1477.997  1476.913      0.09\n",
       "175 2019-07-21  1476.718  1475.577  1476.718  1475.577      0.09\n",
       "176 2019-07-14  1475.396  1474.290  1475.396  1474.290      0.09\n",
       "177 2019-07-07  1474.101  1472.998  1474.101  1472.998      0.09\n",
       "\n",
       "[178 rows x 6 columns]"
      ]
     },
     "execution_count": 7,
     "metadata": {},
     "output_type": "execute_result"
    }
   ],
   "source": [
    "df"
   ]
  },
  {
   "attachments": {},
   "cell_type": "markdown",
   "metadata": {},
   "source": [
    "Dataset ready to use in next step."
   ]
  },
  {
   "attachments": {},
   "cell_type": "markdown",
   "metadata": {},
   "source": [
    "## **5. EDA (Exploratory Data Analysis)**"
   ]
  },
  {
   "attachments": {},
   "cell_type": "markdown",
   "metadata": {},
   "source": [
    "Plotting columns Price, Open, High, Low to see historical in last 5 years. "
   ]
  },
  {
   "cell_type": "code",
   "execution_count": 8,
   "metadata": {},
   "outputs": [
    {
     "data": {
      "text/plain": [
       "Text(0.5, 1.0, 'Plotting Price against the Entire Timeframe For all the columns')"
      ]
     },
     "execution_count": 8,
     "metadata": {},
     "output_type": "execute_result"
    },
    {
     "data": {
      "image/png": "[encoded data removed]",
      "text/plain": [
       "<Figure size 1440x504 with 1 Axes>"
      ]
     },
     "metadata": {
      "needs_background": "light"
     },
     "output_type": "display_data"
    }
   ],
   "source": [
    "df[['Price','Open',\t'High',\t'Low']].plot(figsize=(20,7))\n",
    "plt.legend(loc=\"best\")\n",
    "plt.xlabel(\"Time ---------------->\")\n",
    "plt.ylabel(\"Price ---------------->\")\n",
    "plt.title(\"Plotting Price against the Entire Timeframe For all the columns\")"
   ]
  },
  {
   "attachments": {},
   "cell_type": "markdown",
   "metadata": {},
   "source": [
    "Sort Date ascending to make analysis easier to calculate. "
   ]
  },
  {
   "cell_type": "code",
   "execution_count": 9,
   "metadata": {},
   "outputs": [],
   "source": [
    "df = df.sort_values(['Date'],ascending=True).reset_index()"
   ]
  },
  {
   "cell_type": "code",
   "execution_count": 10,
   "metadata": {},
   "outputs": [
    {
     "data": {
      "text/html": [
       "<div>\n",
       "<style scoped>\n",
       "    .dataframe tbody tr th:only-of-type {\n",
       "        vertical-align: middle;\n",
       "    }\n",
       "\n",
       "    .dataframe tbody tr th {\n",
       "        vertical-align: top;\n",
       "    }\n",
       "\n",
       "    .dataframe thead th {\n",
       "        text-align: right;\n",
       "    }\n",
       "</style>\n",
       "<table border=\"1\" class=\"dataframe\">\n",
       "  <thead>\n",
       "    <tr style=\"text-align: right;\">\n",
       "      <th></th>\n",
       "      <th>index</th>\n",
       "      <th>Date</th>\n",
       "      <th>Price</th>\n",
       "      <th>Open</th>\n",
       "      <th>High</th>\n",
       "      <th>Low</th>\n",
       "      <th>Change %</th>\n",
       "    </tr>\n",
       "  </thead>\n",
       "  <tbody>\n",
       "    <tr>\n",
       "      <th>0</th>\n",
       "      <td>177</td>\n",
       "      <td>2019-07-07</td>\n",
       "      <td>1474.101</td>\n",
       "      <td>1472.998</td>\n",
       "      <td>1474.101</td>\n",
       "      <td>1472.998</td>\n",
       "      <td>0.09</td>\n",
       "    </tr>\n",
       "    <tr>\n",
       "      <th>1</th>\n",
       "      <td>176</td>\n",
       "      <td>2019-07-14</td>\n",
       "      <td>1475.396</td>\n",
       "      <td>1474.290</td>\n",
       "      <td>1475.396</td>\n",
       "      <td>1474.290</td>\n",
       "      <td>0.09</td>\n",
       "    </tr>\n",
       "    <tr>\n",
       "      <th>2</th>\n",
       "      <td>175</td>\n",
       "      <td>2019-07-21</td>\n",
       "      <td>1476.718</td>\n",
       "      <td>1475.577</td>\n",
       "      <td>1476.718</td>\n",
       "      <td>1475.577</td>\n",
       "      <td>0.09</td>\n",
       "    </tr>\n",
       "    <tr>\n",
       "      <th>3</th>\n",
       "      <td>174</td>\n",
       "      <td>2019-07-28</td>\n",
       "      <td>1477.997</td>\n",
       "      <td>1476.913</td>\n",
       "      <td>1477.997</td>\n",
       "      <td>1476.913</td>\n",
       "      <td>0.09</td>\n",
       "    </tr>\n",
       "    <tr>\n",
       "      <th>4</th>\n",
       "      <td>173</td>\n",
       "      <td>2019-08-04</td>\n",
       "      <td>1479.402</td>\n",
       "      <td>1478.203</td>\n",
       "      <td>1479.402</td>\n",
       "      <td>1478.203</td>\n",
       "      <td>0.10</td>\n",
       "    </tr>\n",
       "    <tr>\n",
       "      <th>...</th>\n",
       "      <td>...</td>\n",
       "      <td>...</td>\n",
       "      <td>...</td>\n",
       "      <td>...</td>\n",
       "      <td>...</td>\n",
       "      <td>...</td>\n",
       "      <td>...</td>\n",
       "    </tr>\n",
       "    <tr>\n",
       "      <th>173</th>\n",
       "      <td>4</td>\n",
       "      <td>2022-11-13</td>\n",
       "      <td>1708.118</td>\n",
       "      <td>1707.413</td>\n",
       "      <td>1708.118</td>\n",
       "      <td>1707.413</td>\n",
       "      <td>0.07</td>\n",
       "    </tr>\n",
       "    <tr>\n",
       "      <th>174</th>\n",
       "      <td>3</td>\n",
       "      <td>2022-11-20</td>\n",
       "      <td>1709.353</td>\n",
       "      <td>1708.646</td>\n",
       "      <td>1709.353</td>\n",
       "      <td>1708.646</td>\n",
       "      <td>0.07</td>\n",
       "    </tr>\n",
       "    <tr>\n",
       "      <th>175</th>\n",
       "      <td>2</td>\n",
       "      <td>2022-11-27</td>\n",
       "      <td>1710.659</td>\n",
       "      <td>1709.877</td>\n",
       "      <td>1710.659</td>\n",
       "      <td>1709.877</td>\n",
       "      <td>0.08</td>\n",
       "    </tr>\n",
       "    <tr>\n",
       "      <th>176</th>\n",
       "      <td>1</td>\n",
       "      <td>2022-12-04</td>\n",
       "      <td>1712.027</td>\n",
       "      <td>1711.240</td>\n",
       "      <td>1712.027</td>\n",
       "      <td>1711.240</td>\n",
       "      <td>0.08</td>\n",
       "    </tr>\n",
       "    <tr>\n",
       "      <th>177</th>\n",
       "      <td>0</td>\n",
       "      <td>2022-12-11</td>\n",
       "      <td>1713.370</td>\n",
       "      <td>1712.612</td>\n",
       "      <td>1713.370</td>\n",
       "      <td>1712.612</td>\n",
       "      <td>0.08</td>\n",
       "    </tr>\n",
       "  </tbody>\n",
       "</table>\n",
       "<p>178 rows × 7 columns</p>\n",
       "</div>"
      ],
      "text/plain": [
       "     index       Date     Price      Open      High       Low  Change %\n",
       "0      177 2019-07-07  1474.101  1472.998  1474.101  1472.998      0.09\n",
       "1      176 2019-07-14  1475.396  1474.290  1475.396  1474.290      0.09\n",
       "2      175 2019-07-21  1476.718  1475.577  1476.718  1475.577      0.09\n",
       "3      174 2019-07-28  1477.997  1476.913  1477.997  1476.913      0.09\n",
       "4      173 2019-08-04  1479.402  1478.203  1479.402  1478.203      0.10\n",
       "..     ...        ...       ...       ...       ...       ...       ...\n",
       "173      4 2022-11-13  1708.118  1707.413  1708.118  1707.413      0.07\n",
       "174      3 2022-11-20  1709.353  1708.646  1709.353  1708.646      0.07\n",
       "175      2 2022-11-27  1710.659  1709.877  1710.659  1709.877      0.08\n",
       "176      1 2022-12-04  1712.027  1711.240  1712.027  1711.240      0.08\n",
       "177      0 2022-12-11  1713.370  1712.612  1713.370  1712.612      0.08\n",
       "\n",
       "[178 rows x 7 columns]"
      ]
     },
     "execution_count": 10,
     "metadata": {},
     "output_type": "execute_result"
    }
   ],
   "source": [
    "df"
   ]
  },
  {
   "attachments": {},
   "cell_type": "markdown",
   "metadata": {},
   "source": [
    "Make new datset for deep analysis contains only Date, High and Low columns. "
   ]
  },
  {
   "cell_type": "code",
   "execution_count": 11,
   "metadata": {},
   "outputs": [],
   "source": [
    "new_df=df[['Date','High','Low']]"
   ]
  },
  {
   "attachments": {},
   "cell_type": "markdown",
   "metadata": {},
   "source": [
    "Make date as index for foreacasting required. "
   ]
  },
  {
   "cell_type": "code",
   "execution_count": 12,
   "metadata": {},
   "outputs": [],
   "source": [
    "new_df=new_df.set_index(['Date'])"
   ]
  },
  {
   "cell_type": "code",
   "execution_count": 13,
   "metadata": {},
   "outputs": [
    {
     "data": {
      "text/html": [
       "<div>\n",
       "<style scoped>\n",
       "    .dataframe tbody tr th:only-of-type {\n",
       "        vertical-align: middle;\n",
       "    }\n",
       "\n",
       "    .dataframe tbody tr th {\n",
       "        vertical-align: top;\n",
       "    }\n",
       "\n",
       "    .dataframe thead th {\n",
       "        text-align: right;\n",
       "    }\n",
       "</style>\n",
       "<table border=\"1\" class=\"dataframe\">\n",
       "  <thead>\n",
       "    <tr style=\"text-align: right;\">\n",
       "      <th></th>\n",
       "      <th>High</th>\n",
       "      <th>Low</th>\n",
       "    </tr>\n",
       "    <tr>\n",
       "      <th>Date</th>\n",
       "      <th></th>\n",
       "      <th></th>\n",
       "    </tr>\n",
       "  </thead>\n",
       "  <tbody>\n",
       "    <tr>\n",
       "      <th>2019-07-07</th>\n",
       "      <td>1474.101</td>\n",
       "      <td>1472.998</td>\n",
       "    </tr>\n",
       "    <tr>\n",
       "      <th>2019-07-14</th>\n",
       "      <td>1475.396</td>\n",
       "      <td>1474.290</td>\n",
       "    </tr>\n",
       "    <tr>\n",
       "      <th>2019-07-21</th>\n",
       "      <td>1476.718</td>\n",
       "      <td>1475.577</td>\n",
       "    </tr>\n",
       "    <tr>\n",
       "      <th>2019-07-28</th>\n",
       "      <td>1477.997</td>\n",
       "      <td>1476.913</td>\n",
       "    </tr>\n",
       "    <tr>\n",
       "      <th>2019-08-04</th>\n",
       "      <td>1479.402</td>\n",
       "      <td>1478.203</td>\n",
       "    </tr>\n",
       "    <tr>\n",
       "      <th>...</th>\n",
       "      <td>...</td>\n",
       "      <td>...</td>\n",
       "    </tr>\n",
       "    <tr>\n",
       "      <th>2022-11-13</th>\n",
       "      <td>1708.118</td>\n",
       "      <td>1707.413</td>\n",
       "    </tr>\n",
       "    <tr>\n",
       "      <th>2022-11-20</th>\n",
       "      <td>1709.353</td>\n",
       "      <td>1708.646</td>\n",
       "    </tr>\n",
       "    <tr>\n",
       "      <th>2022-11-27</th>\n",
       "      <td>1710.659</td>\n",
       "      <td>1709.877</td>\n",
       "    </tr>\n",
       "    <tr>\n",
       "      <th>2022-12-04</th>\n",
       "      <td>1712.027</td>\n",
       "      <td>1711.240</td>\n",
       "    </tr>\n",
       "    <tr>\n",
       "      <th>2022-12-11</th>\n",
       "      <td>1713.370</td>\n",
       "      <td>1712.612</td>\n",
       "    </tr>\n",
       "  </tbody>\n",
       "</table>\n",
       "<p>178 rows × 2 columns</p>\n",
       "</div>"
      ],
      "text/plain": [
       "                High       Low\n",
       "Date                          \n",
       "2019-07-07  1474.101  1472.998\n",
       "2019-07-14  1475.396  1474.290\n",
       "2019-07-21  1476.718  1475.577\n",
       "2019-07-28  1477.997  1476.913\n",
       "2019-08-04  1479.402  1478.203\n",
       "...              ...       ...\n",
       "2022-11-13  1708.118  1707.413\n",
       "2022-11-20  1709.353  1708.646\n",
       "2022-11-27  1710.659  1709.877\n",
       "2022-12-04  1712.027  1711.240\n",
       "2022-12-11  1713.370  1712.612\n",
       "\n",
       "[178 rows x 2 columns]"
      ]
     },
     "execution_count": 13,
     "metadata": {},
     "output_type": "execute_result"
    }
   ],
   "source": [
    "new_df"
   ]
  },
  {
   "attachments": {},
   "cell_type": "markdown",
   "metadata": {},
   "source": [
    "Saving dataset for deploy requirement. "
   ]
  },
  {
   "cell_type": "code",
   "execution_count": 34,
   "metadata": {},
   "outputs": [],
   "source": [
    "new_df.to_csv('MNC Dana Lancar_HL.csv')"
   ]
  },
  {
   "attachments": {},
   "cell_type": "markdown",
   "metadata": {},
   "source": [
    "Plotting High and Low price for last 5 years using new dataset."
   ]
  },
  {
   "cell_type": "code",
   "execution_count": 35,
   "metadata": {},
   "outputs": [
    {
     "data": {
      "text/plain": [
       "<matplotlib.legend.Legend at 0x1e07a7becd0>"
      ]
     },
     "execution_count": 35,
     "metadata": {},
     "output_type": "execute_result"
    },
    {
     "data": {
      "image/png": "[encoded data removed]",
      "text/plain": [
       "<Figure size 1440x504 with 1 Axes>"
      ]
     },
     "metadata": {
      "needs_background": "light"
     },
     "output_type": "display_data"
    }
   ],
   "source": [
    "plt.figure(figsize=(20,7))\n",
    "plt.plot(new_df['High'], color='green', label='High')\n",
    "plt.plot(new_df['Low'], color='blue', label='Low')\n",
    "plt.title('MNC Dana Lancar')\n",
    "plt.xlabel('Dates')\n",
    "plt.ylabel('Prices')\n",
    "plt.legend()"
   ]
  },
  {
   "attachments": {},
   "cell_type": "markdown",
   "metadata": {},
   "source": [
    "## **6. Data Preprocessing**"
   ]
  },
  {
   "attachments": {},
   "cell_type": "markdown",
   "metadata": {},
   "source": [
    "Plotting seasonality on the data"
   ]
  },
  {
   "cell_type": "code",
   "execution_count": 16,
   "metadata": {},
   "outputs": [
    {
     "data": {
      "text/plain": [
       "<Figure size 1152x648 with 0 Axes>"
      ]
     },
     "metadata": {},
     "output_type": "display_data"
    },
    {
     "data": {
      "image/png": "[encoded data removed]",
      "text/plain": [
       "<Figure size 720x432 with 4 Axes>"
      ]
     },
     "metadata": {
      "needs_background": "light"
     },
     "output_type": "display_data"
    },
    {
     "data": {
      "image/png": "[encoded data removed]",
      "text/plain": [
       "<Figure size 720x432 with 4 Axes>"
      ]
     },
     "metadata": {
      "needs_background": "light"
     },
     "output_type": "display_data"
    }
   ],
   "source": [
    "fig = plt.figure() \n",
    "fig.set_size_inches(16, 9)\n",
    "\n",
    "result_H = seasonal_decompose(new_df['High'], period=12)\n",
    "result_L = seasonal_decompose(new_df['Low'], period=12)\n",
    " \n",
    "fig = result_H.plot() \n",
    "fig = result_L.plot() "
   ]
  },
  {
   "attachments": {},
   "cell_type": "markdown",
   "metadata": {},
   "source": [
    "As we see in the plot, the data doesn't contain seasonality and have trend."
   ]
  },
  {
   "attachments": {},
   "cell_type": "markdown",
   "metadata": {},
   "source": [
    "### Spliting data into Train and Test"
   ]
  },
  {
   "attachments": {},
   "cell_type": "markdown",
   "metadata": {},
   "source": [
    "Train data contains 90 % , and test 10 %. "
   ]
  },
  {
   "cell_type": "code",
   "execution_count": 17,
   "metadata": {},
   "outputs": [
    {
     "data": {
      "text/plain": [
       "<matplotlib.legend.Legend at 0x1e06e7dd4f0>"
      ]
     },
     "execution_count": 17,
     "metadata": {},
     "output_type": "execute_result"
    },
    {
     "data": {
      "image/png": "[encoded data removed]",
      "text/plain": [
       "<Figure size 1440x504 with 1 Axes>"
      ]
     },
     "metadata": {
      "needs_background": "light"
     },
     "output_type": "display_data"
    }
   ],
   "source": [
    "train_data, test_data = new_df[0:int(len(new_df)*0.7)], new_df[int(len(new_df)*0.7):]\n",
    "\n",
    "\n",
    "plt.figure(figsize=(20,7))\n",
    "plt.title('new_df Prices')\n",
    "plt.xlabel('Dates')\n",
    "plt.ylabel('Prices')\n",
    "plt.plot(new_df['High'], 'blue', label='Training Data High')\n",
    "plt.plot(test_data['High'], 'green', label='Testing Data High')\n",
    "plt.plot(new_df['Low'], 'red', label='Training Data Low')\n",
    "plt.plot(test_data['Low'], 'orange', label='Testing Data Low')\n",
    "plt.legend()"
   ]
  },
  {
   "cell_type": "code",
   "execution_count": 18,
   "metadata": {},
   "outputs": [
    {
     "data": {
      "text/html": [
       "<div>\n",
       "<style scoped>\n",
       "    .dataframe tbody tr th:only-of-type {\n",
       "        vertical-align: middle;\n",
       "    }\n",
       "\n",
       "    .dataframe tbody tr th {\n",
       "        vertical-align: top;\n",
       "    }\n",
       "\n",
       "    .dataframe thead th {\n",
       "        text-align: right;\n",
       "    }\n",
       "</style>\n",
       "<table border=\"1\" class=\"dataframe\">\n",
       "  <thead>\n",
       "    <tr style=\"text-align: right;\">\n",
       "      <th></th>\n",
       "      <th>High</th>\n",
       "      <th>Low</th>\n",
       "    </tr>\n",
       "    <tr>\n",
       "      <th>Date</th>\n",
       "      <th></th>\n",
       "      <th></th>\n",
       "    </tr>\n",
       "  </thead>\n",
       "  <tbody>\n",
       "    <tr>\n",
       "      <th>2019-07-07</th>\n",
       "      <td>1474.101</td>\n",
       "      <td>1472.998</td>\n",
       "    </tr>\n",
       "    <tr>\n",
       "      <th>2019-07-14</th>\n",
       "      <td>1475.396</td>\n",
       "      <td>1474.290</td>\n",
       "    </tr>\n",
       "    <tr>\n",
       "      <th>2019-07-21</th>\n",
       "      <td>1476.718</td>\n",
       "      <td>1475.577</td>\n",
       "    </tr>\n",
       "    <tr>\n",
       "      <th>2019-07-28</th>\n",
       "      <td>1477.997</td>\n",
       "      <td>1476.913</td>\n",
       "    </tr>\n",
       "    <tr>\n",
       "      <th>2019-08-04</th>\n",
       "      <td>1479.402</td>\n",
       "      <td>1478.203</td>\n",
       "    </tr>\n",
       "    <tr>\n",
       "      <th>...</th>\n",
       "      <td>...</td>\n",
       "      <td>...</td>\n",
       "    </tr>\n",
       "    <tr>\n",
       "      <th>2021-10-24</th>\n",
       "      <td>1640.429</td>\n",
       "      <td>1639.698</td>\n",
       "    </tr>\n",
       "    <tr>\n",
       "      <th>2021-10-31</th>\n",
       "      <td>1641.615</td>\n",
       "      <td>1640.886</td>\n",
       "    </tr>\n",
       "    <tr>\n",
       "      <th>2021-11-07</th>\n",
       "      <td>1642.640</td>\n",
       "      <td>1642.121</td>\n",
       "    </tr>\n",
       "    <tr>\n",
       "      <th>2021-11-14</th>\n",
       "      <td>1643.849</td>\n",
       "      <td>1643.182</td>\n",
       "    </tr>\n",
       "    <tr>\n",
       "      <th>2021-11-21</th>\n",
       "      <td>1645.071</td>\n",
       "      <td>1644.371</td>\n",
       "    </tr>\n",
       "  </tbody>\n",
       "</table>\n",
       "<p>124 rows × 2 columns</p>\n",
       "</div>"
      ],
      "text/plain": [
       "                High       Low\n",
       "Date                          \n",
       "2019-07-07  1474.101  1472.998\n",
       "2019-07-14  1475.396  1474.290\n",
       "2019-07-21  1476.718  1475.577\n",
       "2019-07-28  1477.997  1476.913\n",
       "2019-08-04  1479.402  1478.203\n",
       "...              ...       ...\n",
       "2021-10-24  1640.429  1639.698\n",
       "2021-10-31  1641.615  1640.886\n",
       "2021-11-07  1642.640  1642.121\n",
       "2021-11-14  1643.849  1643.182\n",
       "2021-11-21  1645.071  1644.371\n",
       "\n",
       "[124 rows x 2 columns]"
      ]
     },
     "execution_count": 18,
     "metadata": {},
     "output_type": "execute_result"
    }
   ],
   "source": [
    "train_data"
   ]
  },
  {
   "attachments": {},
   "cell_type": "markdown",
   "metadata": {},
   "source": [
    "## **7. Modeling**"
   ]
  },
  {
   "attachments": {},
   "cell_type": "markdown",
   "metadata": {},
   "source": [
    "### **7.1 Model Definition**"
   ]
  },
  {
   "attachments": {},
   "cell_type": "markdown",
   "metadata": {},
   "source": [
    "We will use ARIMA for the time series prediction"
   ]
  },
  {
   "attachments": {},
   "cell_type": "markdown",
   "metadata": {},
   "source": [
    "### **7.2 Model Training**"
   ]
  },
  {
   "attachments": {},
   "cell_type": "markdown",
   "metadata": {},
   "source": [
    "using auto_arima to searching best order that will use in Arima Model implementation in coloumn 'High'"
   ]
  },
  {
   "cell_type": "code",
   "execution_count": 19,
   "metadata": {},
   "outputs": [
    {
     "name": "stdout",
     "output_type": "stream",
     "text": [
      "Performing stepwise search to minimize aic\n",
      " ARIMA(0,1,0)(0,1,0)[4]             : AIC=299.831, Time=0.05 sec\n",
      " ARIMA(1,1,0)(1,1,0)[4]             : AIC=258.343, Time=0.12 sec\n",
      " ARIMA(0,1,1)(0,1,1)[4]             : AIC=229.457, Time=0.17 sec\n",
      " ARIMA(0,1,1)(0,1,0)[4]             : AIC=300.271, Time=0.06 sec\n",
      " ARIMA(0,1,1)(1,1,1)[4]             : AIC=inf, Time=0.34 sec\n",
      " ARIMA(0,1,1)(0,1,2)[4]             : AIC=230.065, Time=0.24 sec\n",
      " ARIMA(0,1,1)(1,1,0)[4]             : AIC=256.870, Time=0.12 sec\n",
      " ARIMA(0,1,1)(1,1,2)[4]             : AIC=233.091, Time=0.46 sec\n",
      " ARIMA(0,1,0)(0,1,1)[4]             : AIC=231.818, Time=0.07 sec\n",
      " ARIMA(1,1,1)(0,1,1)[4]             : AIC=227.753, Time=0.20 sec\n",
      " ARIMA(1,1,1)(0,1,0)[4]             : AIC=inf, Time=0.28 sec\n",
      " ARIMA(1,1,1)(1,1,1)[4]             : AIC=inf, Time=0.35 sec\n",
      " ARIMA(1,1,1)(0,1,2)[4]             : AIC=227.517, Time=0.28 sec\n",
      " ARIMA(1,1,1)(1,1,2)[4]             : AIC=231.304, Time=0.61 sec\n",
      " ARIMA(1,1,1)(0,1,3)[4]             : AIC=inf, Time=1.11 sec\n",
      " ARIMA(1,1,1)(1,1,3)[4]             : AIC=inf, Time=1.57 sec\n",
      " ARIMA(1,1,0)(0,1,2)[4]             : AIC=232.102, Time=0.17 sec\n",
      " ARIMA(2,1,1)(0,1,2)[4]             : AIC=226.167, Time=0.47 sec\n",
      " ARIMA(2,1,1)(0,1,1)[4]             : AIC=224.420, Time=0.28 sec\n",
      " ARIMA(2,1,1)(0,1,0)[4]             : AIC=278.531, Time=0.12 sec\n",
      " ARIMA(2,1,1)(1,1,1)[4]             : AIC=inf, Time=0.52 sec\n",
      " ARIMA(2,1,1)(1,1,0)[4]             : AIC=244.770, Time=0.20 sec\n",
      " ARIMA(2,1,1)(1,1,2)[4]             : AIC=228.388, Time=0.71 sec\n",
      " ARIMA(2,1,0)(0,1,1)[4]             : AIC=222.421, Time=0.14 sec\n",
      " ARIMA(2,1,0)(0,1,0)[4]             : AIC=296.798, Time=0.04 sec\n",
      " ARIMA(2,1,0)(1,1,1)[4]             : AIC=223.964, Time=0.21 sec\n",
      " ARIMA(2,1,0)(0,1,2)[4]             : AIC=224.185, Time=0.24 sec\n",
      " ARIMA(2,1,0)(1,1,0)[4]             : AIC=245.407, Time=0.11 sec\n",
      " ARIMA(2,1,0)(1,1,2)[4]             : AIC=226.388, Time=0.35 sec\n",
      " ARIMA(1,1,0)(0,1,1)[4]             : AIC=231.517, Time=0.10 sec\n",
      " ARIMA(3,1,0)(0,1,1)[4]             : AIC=224.420, Time=0.17 sec\n",
      " ARIMA(3,1,1)(0,1,1)[4]             : AIC=226.421, Time=0.20 sec\n",
      " ARIMA(2,1,0)(0,1,1)[4] intercept   : AIC=224.378, Time=0.20 sec\n",
      "\n",
      "Best model:  ARIMA(2,1,0)(0,1,1)[4]          \n",
      "Total fit time: 10.286 seconds\n"
     ]
    }
   ],
   "source": [
    "model_autoARIMA_High = auto_arima(new_df['High'], start_p=0, d=1, start_q=0,\n",
    "                                   max_p=5, max_d=5, max_q=5, start_P=0,\n",
    "                                   D=1, start_Q=0, max_P=5, max_D=5,\n",
    "                                   max_Q=5, m=4, seasonal=True,\n",
    "                                   error_action='warn', trace=True,\n",
    "                                   supress_warning=True, stepwise=True,\n",
    "                                   random_state=420, n_fits=50)"
   ]
  },
  {
   "attachments": {},
   "cell_type": "markdown",
   "metadata": {},
   "source": [
    "using auto_arima to searching best order that will use in Arima Model implementation in coloumn 'Low'"
   ]
  },
  {
   "cell_type": "code",
   "execution_count": 20,
   "metadata": {},
   "outputs": [
    {
     "name": "stdout",
     "output_type": "stream",
     "text": [
      "Performing stepwise search to minimize aic\n",
      " ARIMA(0,1,0)(0,1,0)[4]             : AIC=282.815, Time=0.03 sec\n",
      " ARIMA(1,1,0)(1,1,0)[4]             : AIC=249.364, Time=0.06 sec\n",
      " ARIMA(0,1,1)(0,1,1)[4]             : AIC=212.149, Time=0.09 sec\n",
      " ARIMA(0,1,1)(0,1,0)[4]             : AIC=274.422, Time=0.04 sec\n",
      " ARIMA(0,1,1)(1,1,1)[4]             : AIC=inf, Time=0.32 sec\n",
      " ARIMA(0,1,1)(0,1,2)[4]             : AIC=inf, Time=0.52 sec\n",
      " ARIMA(0,1,1)(1,1,0)[4]             : AIC=247.814, Time=0.06 sec\n",
      " ARIMA(0,1,1)(1,1,2)[4]             : AIC=inf, Time=0.64 sec\n",
      " ARIMA(0,1,0)(0,1,1)[4]             : AIC=212.485, Time=0.07 sec\n",
      " ARIMA(1,1,1)(0,1,1)[4]             : AIC=213.436, Time=0.17 sec\n",
      " ARIMA(0,1,2)(0,1,1)[4]             : AIC=211.893, Time=0.19 sec\n",
      " ARIMA(0,1,2)(0,1,0)[4]             : AIC=274.181, Time=0.07 sec\n",
      " ARIMA(0,1,2)(1,1,1)[4]             : AIC=inf, Time=0.50 sec\n",
      " ARIMA(0,1,2)(0,1,2)[4]             : AIC=inf, Time=0.50 sec\n",
      " ARIMA(0,1,2)(1,1,0)[4]             : AIC=249.597, Time=0.13 sec\n",
      " ARIMA(0,1,2)(1,1,2)[4]             : AIC=inf, Time=1.11 sec\n",
      " ARIMA(1,1,2)(0,1,1)[4]             : AIC=inf, Time=1.11 sec\n",
      " ARIMA(0,1,3)(0,1,1)[4]             : AIC=inf, Time=0.91 sec\n",
      " ARIMA(1,1,3)(0,1,1)[4]             : AIC=inf, Time=0.50 sec\n",
      " ARIMA(0,1,2)(0,1,1)[4] intercept   : AIC=inf, Time=0.42 sec\n",
      "\n",
      "Best model:  ARIMA(0,1,2)(0,1,1)[4]          \n",
      "Total fit time: 7.437 seconds\n"
     ]
    }
   ],
   "source": [
    "model_autoARIMA_Low = auto_arima(new_df['Low'], start_p=0, d=1, start_q=0,\n",
    "                                   max_p=5, max_d=5, max_q=5, start_P=0,\n",
    "                                   D=1, start_Q=0, max_P=5, max_D=5,\n",
    "                                   max_Q=5, m=4, seasonal=True,\n",
    "                                   error_action='warn', trace=True,\n",
    "                                   supress_warning=True, stepwise=True,\n",
    "                                   random_state=420, n_fits=50)"
   ]
  },
  {
   "attachments": {},
   "cell_type": "markdown",
   "metadata": {},
   "source": [
    "Model training using result from auto arima with order = 0,1,1 in column 'High'"
   ]
  },
  {
   "cell_type": "code",
   "execution_count": 22,
   "metadata": {},
   "outputs": [
    {
     "name": "stdout",
     "output_type": "stream",
     "text": [
      "<class 'list'>\n"
     ]
    }
   ],
   "source": [
    "# High\n",
    "\n",
    "def smape_kun(y_true, y_pred):\n",
    "    return np.mean((np.abs(y_pred - y_true) * 200/ (np.abs(y_pred) + np.abs(y_true))))\n",
    "\n",
    "train_ar_High = train_data['High'].values\n",
    "test_ar_High = test_data['High'].values\n",
    "\n",
    "history_High = [x for x in train_ar_High]\n",
    "print(type(history_High))\n",
    "predictions_High = list()\n",
    "for t in range(len(test_ar_High)):\n",
    "    model_High = ARIMA(history_High, order=(0,1,1))\n",
    "    model_fit = model_High.fit()\n",
    "    output = model_fit.forecast()\n",
    "    yhat = output[0]\n",
    "    predictions_High.append(yhat)\n",
    "    obs = test_ar_High[t]\n",
    "    history_High.append(obs)\n"
   ]
  },
  {
   "attachments": {},
   "cell_type": "markdown",
   "metadata": {},
   "source": [
    "Model training using result from auto arima with order = 0,1,1 in column 'Low'"
   ]
  },
  {
   "cell_type": "code",
   "execution_count": 23,
   "metadata": {},
   "outputs": [
    {
     "name": "stdout",
     "output_type": "stream",
     "text": [
      "<class 'list'>\n"
     ]
    }
   ],
   "source": [
    "# Low\n",
    "\n",
    "def smape_kun(y_true, y_pred):\n",
    "    return np.mean((np.abs(y_pred - y_true) * 200/ (np.abs(y_pred) + np.abs(y_true))))\n",
    "\n",
    "train_ar_Low = train_data['Low'].values\n",
    "test_ar_Low = test_data['Low'].values\n",
    "\n",
    "history_Low = [x for x in train_ar_Low]\n",
    "print(type(history_Low))\n",
    "predictions_Low = list()\n",
    "for t in range(len(test_ar_Low)):\n",
    "    model_Low = ARIMA(history_Low, order=(0,1,1))\n",
    "    model_fit = model_Low.fit()\n",
    "    output = model_fit.forecast()\n",
    "    yhat = output[0]\n",
    "    predictions_Low.append(yhat)\n",
    "    obs = test_ar_Low[t]\n",
    "    history_Low.append(obs)\n"
   ]
  },
  {
   "attachments": {},
   "cell_type": "markdown",
   "metadata": {},
   "source": [
    "### **7.3 Model Evaluasi**"
   ]
  },
  {
   "attachments": {},
   "cell_type": "markdown",
   "metadata": {},
   "source": [
    "Plotting MNC Dana Lancar High Price on data test"
   ]
  },
  {
   "cell_type": "code",
   "execution_count": 24,
   "metadata": {},
   "outputs": [
    {
     "data": {
      "text/plain": [
       "<matplotlib.legend.Legend at 0x1e0773fc190>"
      ]
     },
     "execution_count": 24,
     "metadata": {},
     "output_type": "execute_result"
    },
    {
     "data": {
      "image/png": "[encoded data removed]",
      "text/plain": [
       "<Figure size 1440x504 with 1 Axes>"
      ]
     },
     "metadata": {
      "needs_background": "light"
     },
     "output_type": "display_data"
    }
   ],
   "source": [
    "plt.figure(figsize=(20,7))\n",
    "\n",
    "plt.plot(test_data.index, predictions_High, color='green', label='Predicted Price')\n",
    "plt.plot(test_data.index, test_data[\"High\"], color='red', label='Test data')\n",
    "plt.plot(train_data.index, train_data[\"High\"], color='blue', label='Train data')\n",
    "plt.title('Saham High Prices Prediction')\n",
    "plt.xlabel('Dates')\n",
    "plt.ylabel('Prices')\n",
    "plt.legend()"
   ]
  },
  {
   "attachments": {},
   "cell_type": "markdown",
   "metadata": {},
   "source": [
    "Plotting MNC Dana Lancar Low Price on data test"
   ]
  },
  {
   "cell_type": "code",
   "execution_count": 25,
   "metadata": {},
   "outputs": [
    {
     "data": {
      "text/plain": [
       "<matplotlib.legend.Legend at 0x1e0784746d0>"
      ]
     },
     "execution_count": 25,
     "metadata": {},
     "output_type": "execute_result"
    },
    {
     "data": {
      "image/png": "[encoded data removed]",
      "text/plain": [
       "<Figure size 1440x504 with 1 Axes>"
      ]
     },
     "metadata": {
      "needs_background": "light"
     },
     "output_type": "display_data"
    }
   ],
   "source": [
    "plt.figure(figsize=(20,7))\n",
    "\n",
    "plt.plot(test_data.index, predictions_Low, color='green', label='Predicted Price')\n",
    "plt.plot(test_data.index, test_data[\"Low\"], color='red', label='Test data')\n",
    "plt.plot(train_data.index, train_data[\"Low\"], color='blue', label='Train data')\n",
    "plt.title('Saham Low Prices Prediction')\n",
    "plt.xlabel('Dates')\n",
    "plt.ylabel('Prices')\n",
    "plt.legend()"
   ]
  },
  {
   "attachments": {},
   "cell_type": "markdown",
   "metadata": {},
   "source": [
    "Create dataset from prediction result vs Actual result on data test"
   ]
  },
  {
   "cell_type": "code",
   "execution_count": 26,
   "metadata": {},
   "outputs": [
    {
     "data": {
      "text/html": [
       "<div>\n",
       "<style scoped>\n",
       "    .dataframe tbody tr th:only-of-type {\n",
       "        vertical-align: middle;\n",
       "    }\n",
       "\n",
       "    .dataframe tbody tr th {\n",
       "        vertical-align: top;\n",
       "    }\n",
       "\n",
       "    .dataframe thead th {\n",
       "        text-align: right;\n",
       "    }\n",
       "</style>\n",
       "<table border=\"1\" class=\"dataframe\">\n",
       "  <thead>\n",
       "    <tr style=\"text-align: right;\">\n",
       "      <th></th>\n",
       "      <th>Actual_High</th>\n",
       "      <th>Predicted_High</th>\n",
       "      <th>Actual_Low</th>\n",
       "      <th>Predicted_Low</th>\n",
       "    </tr>\n",
       "  </thead>\n",
       "  <tbody>\n",
       "    <tr>\n",
       "      <th>0</th>\n",
       "      <td>1646.303</td>\n",
       "      <td>1645.536166</td>\n",
       "      <td>1645.594</td>\n",
       "      <td>1644.862214</td>\n",
       "    </tr>\n",
       "    <tr>\n",
       "      <th>1</th>\n",
       "      <td>1647.573</td>\n",
       "      <td>1646.876482</td>\n",
       "      <td>1646.856</td>\n",
       "      <td>1646.019473</td>\n",
       "    </tr>\n",
       "    <tr>\n",
       "      <th>2</th>\n",
       "      <td>1648.853</td>\n",
       "      <td>1648.094126</td>\n",
       "      <td>1648.129</td>\n",
       "      <td>1647.343313</td>\n",
       "    </tr>\n",
       "    <tr>\n",
       "      <th>3</th>\n",
       "      <td>1650.109</td>\n",
       "      <td>1649.421519</td>\n",
       "      <td>1649.392</td>\n",
       "      <td>1648.587291</td>\n",
       "    </tr>\n",
       "    <tr>\n",
       "      <th>4</th>\n",
       "      <td>1651.201</td>\n",
       "      <td>1650.624290</td>\n",
       "      <td>1650.650</td>\n",
       "      <td>1649.862257</td>\n",
       "    </tr>\n",
       "    <tr>\n",
       "      <th>5</th>\n",
       "      <td>1652.676</td>\n",
       "      <td>1651.633727</td>\n",
       "      <td>1651.865</td>\n",
       "      <td>1651.110982</td>\n",
       "    </tr>\n",
       "    <tr>\n",
       "      <th>6</th>\n",
       "      <td>1654.031</td>\n",
       "      <td>1653.458798</td>\n",
       "      <td>1653.243</td>\n",
       "      <td>1652.306946</td>\n",
       "    </tr>\n",
       "    <tr>\n",
       "      <th>7</th>\n",
       "      <td>1655.256</td>\n",
       "      <td>1654.460914</td>\n",
       "      <td>1654.540</td>\n",
       "      <td>1653.792563</td>\n",
       "    </tr>\n",
       "    <tr>\n",
       "      <th>8</th>\n",
       "      <td>1656.544</td>\n",
       "      <td>1655.854092</td>\n",
       "      <td>1655.837</td>\n",
       "      <td>1654.979453</td>\n",
       "    </tr>\n",
       "    <tr>\n",
       "      <th>9</th>\n",
       "      <td>1657.799</td>\n",
       "      <td>1657.063087</td>\n",
       "      <td>1657.051</td>\n",
       "      <td>1656.342113</td>\n",
       "    </tr>\n",
       "    <tr>\n",
       "      <th>10</th>\n",
       "      <td>1659.023</td>\n",
       "      <td>1658.353512</td>\n",
       "      <td>1658.317</td>\n",
       "      <td>1657.469004</td>\n",
       "    </tr>\n",
       "    <tr>\n",
       "      <th>11</th>\n",
       "      <td>1660.279</td>\n",
       "      <td>1659.527627</td>\n",
       "      <td>1659.544</td>\n",
       "      <td>1658.817889</td>\n",
       "    </tr>\n",
       "    <tr>\n",
       "      <th>12</th>\n",
       "      <td>1661.474</td>\n",
       "      <td>1660.846024</td>\n",
       "      <td>1660.791</td>\n",
       "      <td>1659.973348</td>\n",
       "    </tr>\n",
       "    <tr>\n",
       "      <th>13</th>\n",
       "      <td>1662.449</td>\n",
       "      <td>1661.948056</td>\n",
       "      <td>1662.269</td>\n",
       "      <td>1661.275300</td>\n",
       "    </tr>\n",
       "    <tr>\n",
       "      <th>14</th>\n",
       "      <td>1664.093</td>\n",
       "      <td>1662.827527</td>\n",
       "      <td>1663.371</td>\n",
       "      <td>1662.858545</td>\n",
       "    </tr>\n",
       "    <tr>\n",
       "      <th>15</th>\n",
       "      <td>1665.351</td>\n",
       "      <td>1665.050204</td>\n",
       "      <td>1664.625</td>\n",
       "      <td>1663.675377</td>\n",
       "    </tr>\n",
       "    <tr>\n",
       "      <th>16</th>\n",
       "      <td>1666.635</td>\n",
       "      <td>1665.578327</td>\n",
       "      <td>1665.917</td>\n",
       "      <td>1665.189764</td>\n",
       "    </tr>\n",
       "    <tr>\n",
       "      <th>17</th>\n",
       "      <td>1667.773</td>\n",
       "      <td>1667.433864</td>\n",
       "      <td>1667.182</td>\n",
       "      <td>1666.349805</td>\n",
       "    </tr>\n",
       "    <tr>\n",
       "      <th>18</th>\n",
       "      <td>1669.022</td>\n",
       "      <td>1668.028819</td>\n",
       "      <td>1668.322</td>\n",
       "      <td>1667.678323</td>\n",
       "    </tr>\n",
       "    <tr>\n",
       "      <th>19</th>\n",
       "      <td>1670.090</td>\n",
       "      <td>1669.771967</td>\n",
       "      <td>1669.560</td>\n",
       "      <td>1668.706139</td>\n",
       "    </tr>\n",
       "    <tr>\n",
       "      <th>20</th>\n",
       "      <td>1671.526</td>\n",
       "      <td>1670.329577</td>\n",
       "      <td>1670.820</td>\n",
       "      <td>1670.070398</td>\n",
       "    </tr>\n",
       "    <tr>\n",
       "      <th>21</th>\n",
       "      <td>1672.556</td>\n",
       "      <td>1672.427916</td>\n",
       "      <td>1672.045</td>\n",
       "      <td>1671.268479</td>\n",
       "    </tr>\n",
       "    <tr>\n",
       "      <th>22</th>\n",
       "      <td>1675.066</td>\n",
       "      <td>1672.652098</td>\n",
       "      <td>1674.418</td>\n",
       "      <td>1672.510390</td>\n",
       "    </tr>\n",
       "    <tr>\n",
       "      <th>23</th>\n",
       "      <td>1676.315</td>\n",
       "      <td>1676.869919</td>\n",
       "      <td>1675.777</td>\n",
       "      <td>1675.565023</td>\n",
       "    </tr>\n",
       "    <tr>\n",
       "      <th>24</th>\n",
       "      <td>1677.561</td>\n",
       "      <td>1675.909581</td>\n",
       "      <td>1676.853</td>\n",
       "      <td>1675.904059</td>\n",
       "    </tr>\n",
       "    <tr>\n",
       "      <th>25</th>\n",
       "      <td>1678.626</td>\n",
       "      <td>1678.757237</td>\n",
       "      <td>1678.089</td>\n",
       "      <td>1677.422722</td>\n",
       "    </tr>\n",
       "    <tr>\n",
       "      <th>26</th>\n",
       "      <td>1680.038</td>\n",
       "      <td>1678.531969</td>\n",
       "      <td>1679.153</td>\n",
       "      <td>1678.489126</td>\n",
       "    </tr>\n",
       "    <tr>\n",
       "      <th>27</th>\n",
       "      <td>1681.252</td>\n",
       "      <td>1681.117626</td>\n",
       "      <td>1680.544</td>\n",
       "      <td>1679.553057</td>\n",
       "    </tr>\n",
       "    <tr>\n",
       "      <th>28</th>\n",
       "      <td>1682.490</td>\n",
       "      <td>1681.347657</td>\n",
       "      <td>1681.783</td>\n",
       "      <td>1681.141983</td>\n",
       "    </tr>\n",
       "    <tr>\n",
       "      <th>29</th>\n",
       "      <td>1683.712</td>\n",
       "      <td>1683.308202</td>\n",
       "      <td>1683.008</td>\n",
       "      <td>1682.170494</td>\n",
       "    </tr>\n",
       "    <tr>\n",
       "      <th>30</th>\n",
       "      <td>1684.965</td>\n",
       "      <td>1684.000806</td>\n",
       "      <td>1684.242</td>\n",
       "      <td>1683.514895</td>\n",
       "    </tr>\n",
       "    <tr>\n",
       "      <th>31</th>\n",
       "      <td>1686.194</td>\n",
       "      <td>1685.658684</td>\n",
       "      <td>1685.486</td>\n",
       "      <td>1684.682480</td>\n",
       "    </tr>\n",
       "    <tr>\n",
       "      <th>32</th>\n",
       "      <td>1687.426</td>\n",
       "      <td>1686.578919</td>\n",
       "      <td>1686.717</td>\n",
       "      <td>1685.973489</td>\n",
       "    </tr>\n",
       "    <tr>\n",
       "      <th>33</th>\n",
       "      <td>1688.649</td>\n",
       "      <td>1688.037682</td>\n",
       "      <td>1687.943</td>\n",
       "      <td>1687.168515</td>\n",
       "    </tr>\n",
       "    <tr>\n",
       "      <th>34</th>\n",
       "      <td>1689.815</td>\n",
       "      <td>1689.090329</td>\n",
       "      <td>1689.139</td>\n",
       "      <td>1688.413965</td>\n",
       "    </tr>\n",
       "    <tr>\n",
       "      <th>35</th>\n",
       "      <td>1691.038</td>\n",
       "      <td>1690.339706</td>\n",
       "      <td>1690.348</td>\n",
       "      <td>1689.580320</td>\n",
       "    </tr>\n",
       "    <tr>\n",
       "      <th>36</th>\n",
       "      <td>1692.305</td>\n",
       "      <td>1691.543706</td>\n",
       "      <td>1691.547</td>\n",
       "      <td>1690.815853</td>\n",
       "    </tr>\n",
       "    <tr>\n",
       "      <th>37</th>\n",
       "      <td>1693.489</td>\n",
       "      <td>1692.857398</td>\n",
       "      <td>1692.793</td>\n",
       "      <td>1691.993025</td>\n",
       "    </tr>\n",
       "    <tr>\n",
       "      <th>38</th>\n",
       "      <td>1694.742</td>\n",
       "      <td>1693.947315</td>\n",
       "      <td>1694.014</td>\n",
       "      <td>1693.281618</td>\n",
       "    </tr>\n",
       "    <tr>\n",
       "      <th>39</th>\n",
       "      <td>1695.965</td>\n",
       "      <td>1695.319387</td>\n",
       "      <td>1695.264</td>\n",
       "      <td>1694.461779</td>\n",
       "    </tr>\n",
       "    <tr>\n",
       "      <th>40</th>\n",
       "      <td>1697.167</td>\n",
       "      <td>1696.434137</td>\n",
       "      <td>1696.468</td>\n",
       "      <td>1695.755098</td>\n",
       "    </tr>\n",
       "    <tr>\n",
       "      <th>41</th>\n",
       "      <td>1698.391</td>\n",
       "      <td>1697.700160</td>\n",
       "      <td>1697.693</td>\n",
       "      <td>1696.904827</td>\n",
       "    </tr>\n",
       "    <tr>\n",
       "      <th>42</th>\n",
       "      <td>1699.548</td>\n",
       "      <td>1698.893744</td>\n",
       "      <td>1698.875</td>\n",
       "      <td>1698.176542</td>\n",
       "    </tr>\n",
       "    <tr>\n",
       "      <th>43</th>\n",
       "      <td>1700.783</td>\n",
       "      <td>1700.024603</td>\n",
       "      <td>1700.076</td>\n",
       "      <td>1699.303871</td>\n",
       "    </tr>\n",
       "    <tr>\n",
       "      <th>44</th>\n",
       "      <td>1701.999</td>\n",
       "      <td>1701.335746</td>\n",
       "      <td>1701.307</td>\n",
       "      <td>1700.550670</td>\n",
       "    </tr>\n",
       "    <tr>\n",
       "      <th>45</th>\n",
       "      <td>1703.218</td>\n",
       "      <td>1702.482777</td>\n",
       "      <td>1702.517</td>\n",
       "      <td>1701.772388</td>\n",
       "    </tr>\n",
       "    <tr>\n",
       "      <th>46</th>\n",
       "      <td>1704.408</td>\n",
       "      <td>1703.754611</td>\n",
       "      <td>1703.746</td>\n",
       "      <td>1702.975718</td>\n",
       "    </tr>\n",
       "    <tr>\n",
       "      <th>47</th>\n",
       "      <td>1705.642</td>\n",
       "      <td>1704.885157</td>\n",
       "      <td>1704.935</td>\n",
       "      <td>1704.221007</td>\n",
       "    </tr>\n",
       "    <tr>\n",
       "      <th>48</th>\n",
       "      <td>1706.886</td>\n",
       "      <td>1706.195099</td>\n",
       "      <td>1706.175</td>\n",
       "      <td>1705.375750</td>\n",
       "    </tr>\n",
       "    <tr>\n",
       "      <th>49</th>\n",
       "      <td>1708.118</td>\n",
       "      <td>1707.391175</td>\n",
       "      <td>1707.413</td>\n",
       "      <td>1706.668910</td>\n",
       "    </tr>\n",
       "    <tr>\n",
       "      <th>50</th>\n",
       "      <td>1709.353</td>\n",
       "      <td>1708.649856</td>\n",
       "      <td>1708.646</td>\n",
       "      <td>1707.873273</td>\n",
       "    </tr>\n",
       "    <tr>\n",
       "      <th>51</th>\n",
       "      <td>1710.659</td>\n",
       "      <td>1709.867797</td>\n",
       "      <td>1709.877</td>\n",
       "      <td>1709.124534</td>\n",
       "    </tr>\n",
       "    <tr>\n",
       "      <th>52</th>\n",
       "      <td>1712.027</td>\n",
       "      <td>1711.238731</td>\n",
       "      <td>1711.240</td>\n",
       "      <td>1710.343432</td>\n",
       "    </tr>\n",
       "    <tr>\n",
       "      <th>53</th>\n",
       "      <td>1713.370</td>\n",
       "      <td>1712.604949</td>\n",
       "      <td>1712.612</td>\n",
       "      <td>1711.796458</td>\n",
       "    </tr>\n",
       "  </tbody>\n",
       "</table>\n",
       "</div>"
      ],
      "text/plain": [
       "    Actual_High  Predicted_High  Actual_Low  Predicted_Low\n",
       "0      1646.303     1645.536166    1645.594    1644.862214\n",
       "1      1647.573     1646.876482    1646.856    1646.019473\n",
       "2      1648.853     1648.094126    1648.129    1647.343313\n",
       "3      1650.109     1649.421519    1649.392    1648.587291\n",
       "4      1651.201     1650.624290    1650.650    1649.862257\n",
       "5      1652.676     1651.633727    1651.865    1651.110982\n",
       "6      1654.031     1653.458798    1653.243    1652.306946\n",
       "7      1655.256     1654.460914    1654.540    1653.792563\n",
       "8      1656.544     1655.854092    1655.837    1654.979453\n",
       "9      1657.799     1657.063087    1657.051    1656.342113\n",
       "10     1659.023     1658.353512    1658.317    1657.469004\n",
       "11     1660.279     1659.527627    1659.544    1658.817889\n",
       "12     1661.474     1660.846024    1660.791    1659.973348\n",
       "13     1662.449     1661.948056    1662.269    1661.275300\n",
       "14     1664.093     1662.827527    1663.371    1662.858545\n",
       "15     1665.351     1665.050204    1664.625    1663.675377\n",
       "16     1666.635     1665.578327    1665.917    1665.189764\n",
       "17     1667.773     1667.433864    1667.182    1666.349805\n",
       "18     1669.022     1668.028819    1668.322    1667.678323\n",
       "19     1670.090     1669.771967    1669.560    1668.706139\n",
       "20     1671.526     1670.329577    1670.820    1670.070398\n",
       "21     1672.556     1672.427916    1672.045    1671.268479\n",
       "22     1675.066     1672.652098    1674.418    1672.510390\n",
       "23     1676.315     1676.869919    1675.777    1675.565023\n",
       "24     1677.561     1675.909581    1676.853    1675.904059\n",
       "25     1678.626     1678.757237    1678.089    1677.422722\n",
       "26     1680.038     1678.531969    1679.153    1678.489126\n",
       "27     1681.252     1681.117626    1680.544    1679.553057\n",
       "28     1682.490     1681.347657    1681.783    1681.141983\n",
       "29     1683.712     1683.308202    1683.008    1682.170494\n",
       "30     1684.965     1684.000806    1684.242    1683.514895\n",
       "31     1686.194     1685.658684    1685.486    1684.682480\n",
       "32     1687.426     1686.578919    1686.717    1685.973489\n",
       "33     1688.649     1688.037682    1687.943    1687.168515\n",
       "34     1689.815     1689.090329    1689.139    1688.413965\n",
       "35     1691.038     1690.339706    1690.348    1689.580320\n",
       "36     1692.305     1691.543706    1691.547    1690.815853\n",
       "37     1693.489     1692.857398    1692.793    1691.993025\n",
       "38     1694.742     1693.947315    1694.014    1693.281618\n",
       "39     1695.965     1695.319387    1695.264    1694.461779\n",
       "40     1697.167     1696.434137    1696.468    1695.755098\n",
       "41     1698.391     1697.700160    1697.693    1696.904827\n",
       "42     1699.548     1698.893744    1698.875    1698.176542\n",
       "43     1700.783     1700.024603    1700.076    1699.303871\n",
       "44     1701.999     1701.335746    1701.307    1700.550670\n",
       "45     1703.218     1702.482777    1702.517    1701.772388\n",
       "46     1704.408     1703.754611    1703.746    1702.975718\n",
       "47     1705.642     1704.885157    1704.935    1704.221007\n",
       "48     1706.886     1706.195099    1706.175    1705.375750\n",
       "49     1708.118     1707.391175    1707.413    1706.668910\n",
       "50     1709.353     1708.649856    1708.646    1707.873273\n",
       "51     1710.659     1709.867797    1709.877    1709.124534\n",
       "52     1712.027     1711.238731    1711.240    1710.343432\n",
       "53     1713.370     1712.604949    1712.612    1711.796458"
      ]
     },
     "execution_count": 26,
     "metadata": {},
     "output_type": "execute_result"
    }
   ],
   "source": [
    "# High\n",
    "\n",
    "actual_High=pd.DataFrame()\n",
    "actual_High=pd.DataFrame(test_ar_High,columns=[\"Actual_High\"])\n",
    "predicted_High=pd.DataFrame(list(predictions_High),columns=[\"Predicted_High\"])\n",
    "actual_High=actual_High.reset_index(drop=True)\n",
    "predicted_High=predicted_High.reset_index(drop=True)\n",
    "output_High=pd.concat([actual_High,predicted_High],axis=1)\n",
    "\n",
    "# Low\n",
    "\n",
    "actual_Low=pd.DataFrame()\n",
    "actual_Low=pd.DataFrame(test_ar_Low,columns=[\"Actual_Low\"])\n",
    "predicted_Low=pd.DataFrame(list(predictions_Low),columns=[\"Predicted_Low\"])\n",
    "actual_Low=actual_Low.reset_index(drop=True)\n",
    "predicted_Low=predicted_Low.reset_index(drop=True)\n",
    "output_Low=pd.concat([actual_Low,predicted_Low],axis=1)\n",
    "\n",
    "output = pd.concat([output_High, output_Low], axis=1)\n",
    "output"
   ]
  },
  {
   "attachments": {},
   "cell_type": "markdown",
   "metadata": {},
   "source": [
    "As we can see from visualization, the prediction result is good enough and close to actual result. Lets see from evaluation model. "
   ]
  },
  {
   "cell_type": "code",
   "execution_count": 28,
   "metadata": {},
   "outputs": [],
   "source": [
    "# High\n",
    "\n",
    "MEAN_High = new_df['High'].mean()\n",
    "MAE_High = mean_absolute_error(output['Actual_High'], output['Predicted_High'])\n",
    "MSE_High = mean_squared_error(output['Actual_High'], output['Predicted_High'])\n",
    "RMSE_High = np.sqrt(mean_squared_error(output['Actual_High'], output['Predicted_High']))\n",
    "MAPE_High = mean_absolute_percentage_error(output['Actual_High'], output['Predicted_High'])\n",
    "\n",
    "# Low\n",
    "\n",
    "MEAN_Low = new_df['High'].mean()\n",
    "MAE_Low = mean_absolute_error(output['Actual_Low'], output['Predicted_Low'])\n",
    "MSE_Low = mean_squared_error(output['Actual_Low'], output['Predicted_Low'])\n",
    "RMSE_Low = np.sqrt(mean_squared_error(output['Actual_Low'], output['Predicted_Low']))\n",
    "MAPE_Low = mean_absolute_percentage_error(output['Actual_Low'], output['Predicted_Low'])"
   ]
  },
  {
   "attachments": {},
   "cell_type": "markdown",
   "metadata": {},
   "source": [
    "create dataframe from result of model evaluation based on Mean, MAE, MSE, RMSE, MAPE."
   ]
  },
  {
   "cell_type": "code",
   "execution_count": 29,
   "metadata": {},
   "outputs": [
    {
     "data": {
      "text/html": [
       "<div>\n",
       "<style scoped>\n",
       "    .dataframe tbody tr th:only-of-type {\n",
       "        vertical-align: middle;\n",
       "    }\n",
       "\n",
       "    .dataframe tbody tr th {\n",
       "        vertical-align: top;\n",
       "    }\n",
       "\n",
       "    .dataframe thead th {\n",
       "        text-align: right;\n",
       "    }\n",
       "</style>\n",
       "<table border=\"1\" class=\"dataframe\">\n",
       "  <thead>\n",
       "    <tr style=\"text-align: right;\">\n",
       "      <th></th>\n",
       "      <th>Predict</th>\n",
       "      <th>MEAN</th>\n",
       "      <th>MAE</th>\n",
       "      <th>MSE</th>\n",
       "      <th>RMSE</th>\n",
       "      <th>MAPE</th>\n",
       "    </tr>\n",
       "  </thead>\n",
       "  <tbody>\n",
       "    <tr>\n",
       "      <th>0</th>\n",
       "      <td>High</td>\n",
       "      <td>1595.013298</td>\n",
       "      <td>0.754295</td>\n",
       "      <td>0.702697</td>\n",
       "      <td>0.838270</td>\n",
       "      <td>0.000449</td>\n",
       "    </tr>\n",
       "    <tr>\n",
       "      <th>1</th>\n",
       "      <td>Low</td>\n",
       "      <td>1595.013298</td>\n",
       "      <td>0.788773</td>\n",
       "      <td>0.659000</td>\n",
       "      <td>0.811788</td>\n",
       "      <td>0.000470</td>\n",
       "    </tr>\n",
       "  </tbody>\n",
       "</table>\n",
       "</div>"
      ],
      "text/plain": [
       "  Predict         MEAN       MAE       MSE      RMSE      MAPE\n",
       "0    High  1595.013298  0.754295  0.702697  0.838270  0.000449\n",
       "1     Low  1595.013298  0.788773  0.659000  0.811788  0.000470"
      ]
     },
     "execution_count": 29,
     "metadata": {},
     "output_type": "execute_result"
    }
   ],
   "source": [
    "nilai = [MEAN_High,MAE_High,MSE_High,RMSE_High,MAPE_High,MEAN_Low,MAE_Low,MSE_Low,RMSE_Low,MAPE_Low]\n",
    "MEAN = []\n",
    "MAE = []\n",
    "MSE = []\n",
    "RMSE = []\n",
    "MAPE = []\n",
    "for i in nilai:\n",
    "    MEAN.append(MEAN_High)\n",
    "    MAE.append(MAE_High)\n",
    "    MSE.append(MSE_High)\n",
    "    RMSE.append(RMSE_High)\n",
    "    MAPE.append(MAPE_High)\n",
    "    MEAN.append(MEAN_Low)\n",
    "    MAE.append(MAE_Low)\n",
    "    MSE.append(MSE_Low)\n",
    "    RMSE.append(RMSE_Low)\n",
    "    MAPE.append(MAPE_Low)\n",
    "predict = ['High','Low']\n",
    "score = pd.DataFrame(predict)\n",
    "score.rename(columns={0:'Predict'},inplace = True)\n",
    "score['MEAN']= (MEAN_High,MEAN_Low)\n",
    "score['MAE']= (MAE_High,MAE_Low)\n",
    "score['MSE']= (MSE_High,MSE_Low)\n",
    "score['RMSE']=(RMSE_High,RMSE_Low)\n",
    "score['MAPE']=(MAPE_High,MAPE_Low)\n",
    "\n",
    "score"
   ]
  },
  {
   "attachments": {},
   "cell_type": "markdown",
   "metadata": {},
   "source": [
    "The prediction result is pretty good, the MAPE result show that the error result only 0,04 %. Which means the accuracy of prediction is 99,96 %. "
   ]
  },
  {
   "attachments": {},
   "cell_type": "markdown",
   "metadata": {},
   "source": [
    "## **8. Prediction**"
   ]
  },
  {
   "attachments": {},
   "cell_type": "markdown",
   "metadata": {},
   "source": [
    "We will create new date that we will predict, the last date on the data is on 2022-12-11 , so we countinue to predict 4 weeks ahead start from 2022-12-18. "
   ]
  },
  {
   "cell_type": "code",
   "execution_count": 36,
   "metadata": {},
   "outputs": [
    {
     "data": {
      "text/html": [
       "<div>\n",
       "<style scoped>\n",
       "    .dataframe tbody tr th:only-of-type {\n",
       "        vertical-align: middle;\n",
       "    }\n",
       "\n",
       "    .dataframe tbody tr th {\n",
       "        vertical-align: top;\n",
       "    }\n",
       "\n",
       "    .dataframe thead th {\n",
       "        text-align: right;\n",
       "    }\n",
       "</style>\n",
       "<table border=\"1\" class=\"dataframe\">\n",
       "  <thead>\n",
       "    <tr style=\"text-align: right;\">\n",
       "      <th></th>\n",
       "      <th>Date</th>\n",
       "    </tr>\n",
       "  </thead>\n",
       "  <tbody>\n",
       "    <tr>\n",
       "      <th>0</th>\n",
       "      <td>2022-12-18</td>\n",
       "    </tr>\n",
       "    <tr>\n",
       "      <th>1</th>\n",
       "      <td>2022-12-25</td>\n",
       "    </tr>\n",
       "    <tr>\n",
       "      <th>2</th>\n",
       "      <td>2023-01-01</td>\n",
       "    </tr>\n",
       "    <tr>\n",
       "      <th>3</th>\n",
       "      <td>2023-01-08</td>\n",
       "    </tr>\n",
       "  </tbody>\n",
       "</table>\n",
       "</div>"
      ],
      "text/plain": [
       "        Date\n",
       "0 2022-12-18\n",
       "1 2022-12-25\n",
       "2 2023-01-01\n",
       "3 2023-01-08"
      ]
     },
     "execution_count": 36,
     "metadata": {},
     "output_type": "execute_result"
    }
   ],
   "source": [
    "# Create date for the predicted month\n",
    "index_new = pd.DataFrame(pd.date_range('2022-12-18', periods=4, freq='W').to_period('D'), columns=['Date'])\n",
    "index_new = pd.DataFrame(index_new['Date'].dt.to_timestamp(freq='W'))\n",
    "index_new"
   ]
  },
  {
   "attachments": {},
   "cell_type": "markdown",
   "metadata": {},
   "source": [
    "Apply model to predict High price"
   ]
  },
  {
   "cell_type": "code",
   "execution_count": 37,
   "metadata": {},
   "outputs": [
    {
     "data": {
      "text/html": [
       "<div>\n",
       "<style scoped>\n",
       "    .dataframe tbody tr th:only-of-type {\n",
       "        vertical-align: middle;\n",
       "    }\n",
       "\n",
       "    .dataframe tbody tr th {\n",
       "        vertical-align: top;\n",
       "    }\n",
       "\n",
       "    .dataframe thead th {\n",
       "        text-align: right;\n",
       "    }\n",
       "</style>\n",
       "<table border=\"1\" class=\"dataframe\">\n",
       "  <thead>\n",
       "    <tr style=\"text-align: right;\">\n",
       "      <th></th>\n",
       "      <th>Forecast</th>\n",
       "    </tr>\n",
       "    <tr>\n",
       "      <th>Date</th>\n",
       "      <th></th>\n",
       "    </tr>\n",
       "  </thead>\n",
       "  <tbody>\n",
       "    <tr>\n",
       "      <th>2022-12-18</th>\n",
       "      <td>1712.604949</td>\n",
       "    </tr>\n",
       "    <tr>\n",
       "      <th>2022-12-25</th>\n",
       "      <td>1712.604949</td>\n",
       "    </tr>\n",
       "    <tr>\n",
       "      <th>2023-01-01</th>\n",
       "      <td>1712.604949</td>\n",
       "    </tr>\n",
       "    <tr>\n",
       "      <th>2023-01-08</th>\n",
       "      <td>1712.604949</td>\n",
       "    </tr>\n",
       "  </tbody>\n",
       "</table>\n",
       "</div>"
      ],
      "text/plain": [
       "               Forecast\n",
       "Date                   \n",
       "2022-12-18  1712.604949\n",
       "2022-12-25  1712.604949\n",
       "2023-01-01  1712.604949\n",
       "2023-01-08  1712.604949"
      ]
     },
     "execution_count": 37,
     "metadata": {},
     "output_type": "execute_result"
    }
   ],
   "source": [
    "# High\n",
    "\n",
    "result_High =  model_High.fit()\n",
    "  \n",
    "# Forecast for the next 4 week\n",
    "forecast_High = result_High.predict(start = len(new_df), \n",
    "                          end = (len(new_df)-1) + 4, \n",
    "                          typ = 'levels')\n",
    "\n",
    "forecast_High = pd.concat([index_new.reset_index(drop=True), pd.DataFrame(forecast_High,columns=[\"Forecast\"])], axis=1).set_index([\"Date\"])\n",
    "forecast_High"
   ]
  },
  {
   "attachments": {},
   "cell_type": "markdown",
   "metadata": {},
   "source": [
    "Saving dataset for deploy requirement."
   ]
  },
  {
   "cell_type": "code",
   "execution_count": 39,
   "metadata": {},
   "outputs": [],
   "source": [
    "forecast_High.to_csv('MNC High Forecast.csv')"
   ]
  },
  {
   "attachments": {},
   "cell_type": "markdown",
   "metadata": {},
   "source": [
    "Apply model to predict Low price"
   ]
  },
  {
   "cell_type": "code",
   "execution_count": 38,
   "metadata": {},
   "outputs": [
    {
     "data": {
      "text/html": [
       "<div>\n",
       "<style scoped>\n",
       "    .dataframe tbody tr th:only-of-type {\n",
       "        vertical-align: middle;\n",
       "    }\n",
       "\n",
       "    .dataframe tbody tr th {\n",
       "        vertical-align: top;\n",
       "    }\n",
       "\n",
       "    .dataframe thead th {\n",
       "        text-align: right;\n",
       "    }\n",
       "</style>\n",
       "<table border=\"1\" class=\"dataframe\">\n",
       "  <thead>\n",
       "    <tr style=\"text-align: right;\">\n",
       "      <th></th>\n",
       "      <th>Forcast</th>\n",
       "    </tr>\n",
       "    <tr>\n",
       "      <th>Date</th>\n",
       "      <th></th>\n",
       "    </tr>\n",
       "  </thead>\n",
       "  <tbody>\n",
       "    <tr>\n",
       "      <th>2022-12-18</th>\n",
       "      <td>1711.796458</td>\n",
       "    </tr>\n",
       "    <tr>\n",
       "      <th>2022-12-25</th>\n",
       "      <td>1711.796458</td>\n",
       "    </tr>\n",
       "    <tr>\n",
       "      <th>2023-01-01</th>\n",
       "      <td>1711.796458</td>\n",
       "    </tr>\n",
       "    <tr>\n",
       "      <th>2023-01-08</th>\n",
       "      <td>1711.796458</td>\n",
       "    </tr>\n",
       "  </tbody>\n",
       "</table>\n",
       "</div>"
      ],
      "text/plain": [
       "                Forcast\n",
       "Date                   \n",
       "2022-12-18  1711.796458\n",
       "2022-12-25  1711.796458\n",
       "2023-01-01  1711.796458\n",
       "2023-01-08  1711.796458"
      ]
     },
     "execution_count": 38,
     "metadata": {},
     "output_type": "execute_result"
    }
   ],
   "source": [
    "# Low\n",
    "\n",
    "result_Low =  model_Low.fit()\n",
    "  \n",
    "# Forecast for the next 4 week\n",
    "forecast_Low = result_Low.predict(start = len(new_df), \n",
    "                          end = (len(new_df)-1) + 4, \n",
    "                          typ = 'levels')\n",
    "\n",
    "forecast_Low = pd.concat([index_new.reset_index(drop=True), pd.DataFrame(forecast_Low,columns=[\"Forcast\"])], axis=1).set_index([\"Date\"])\n",
    "forecast_Low"
   ]
  },
  {
   "attachments": {},
   "cell_type": "markdown",
   "metadata": {},
   "source": [
    "Saving dataset for deploy requirement."
   ]
  },
  {
   "cell_type": "code",
   "execution_count": 40,
   "metadata": {},
   "outputs": [],
   "source": [
    "forecast_Low.to_csv('MNC Low Forecast.csv')"
   ]
  },
  {
   "attachments": {},
   "cell_type": "markdown",
   "metadata": {},
   "source": [
    "Plotting the prediction result. "
   ]
  },
  {
   "cell_type": "code",
   "execution_count": 41,
   "metadata": {},
   "outputs": [
    {
     "data": {
      "text/plain": [
       "<matplotlib.legend.Legend at 0x1e07aebdf70>"
      ]
     },
     "execution_count": 41,
     "metadata": {},
     "output_type": "execute_result"
    },
    {
     "data": {
      "image/png": "[encoded data removed]",
      "text/plain": [
       "<Figure size 1440x504 with 1 Axes>"
      ]
     },
     "metadata": {
      "needs_background": "light"
     },
     "output_type": "display_data"
    }
   ],
   "source": [
    "plt.figure(figsize=(20,7))\n",
    "plt.plot(forecast_High, color='green', label='High Price')\n",
    "plt.title('MNC Dana Lancar High Price Forecasting')\n",
    "plt.xlabel('Dates')\n",
    "plt.ylabel('Prices')\n",
    "plt.legend()"
   ]
  },
  {
   "cell_type": "code",
   "execution_count": 42,
   "metadata": {},
   "outputs": [
    {
     "data": {
      "text/plain": [
       "<matplotlib.legend.Legend at 0x1e07b13b160>"
      ]
     },
     "execution_count": 42,
     "metadata": {},
     "output_type": "execute_result"
    },
    {
     "data": {
      "image/png": "[encoded data removed]",
      "text/plain": [
       "<Figure size 1440x504 with 1 Axes>"
      ]
     },
     "metadata": {
      "needs_background": "light"
     },
     "output_type": "display_data"
    }
   ],
   "source": [
    "plt.figure(figsize=(20,7))\n",
    "plt.plot(forecast_Low, color='green', label='Low Price')\n",
    "plt.title('MNC Dana Lancar Low Price Forecasting')\n",
    "plt.xlabel('Dates')\n",
    "plt.ylabel('Prices')\n",
    "plt.legend()"
   ]
  },
  {
   "attachments": {},
   "cell_type": "markdown",
   "metadata": {},
   "source": [
    "## **9.Conclusion**"
   ]
  },
  {
   "attachments": {},
   "cell_type": "markdown",
   "metadata": {},
   "source": [
    "From this forecasting analysis we can conclude that :\n",
    "- ARIMA model have good result for forecasting case in this dataset.\n",
    "- The accuracy according to MAPE error result is 98.96 % with error 0,04 % \n",
    "- The model running good in predict 4 weeks ahead in High and Low price. \n"
   ]
  }
 ],
 "metadata": {
  "kernelspec": {
   "display_name": "Python 3",
   "language": "python",
   "name": "python3"
  },
  "language_info": {
   "codemirror_mode": {
    "name": "ipython",
    "version": 3
   },
   "file_extension": ".py",
   "mimetype": "text/x-python",
   "name": "python",
   "nbconvert_exporter": "python",
   "pygments_lexer": "ipython3",
   "version": "3.11.0 (main, Oct 24 2022, 18:26:48) [MSC v.1933 64 bit (AMD64)]"
  },
  "orig_nbformat": 4,
  "vscode": {
   "interpreter": {
    "hash": "de47f5c92c0ee6f12a59a5613ac5feff6aab19ddff207ba0b3964cced08c4ccc"
   }
  }
 },
 "nbformat": 4,
 "nbformat_minor": 2
}
