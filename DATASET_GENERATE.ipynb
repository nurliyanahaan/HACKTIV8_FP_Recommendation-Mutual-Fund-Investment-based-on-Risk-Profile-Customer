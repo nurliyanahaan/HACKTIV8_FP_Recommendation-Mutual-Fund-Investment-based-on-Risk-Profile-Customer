{
  "cells": [
    {
      "attachments": {},
      "cell_type": "markdown",
      "metadata": {},
      "source": [
        "# **DATASET GENERATE**"
      ]
    },
    {
      "cell_type": "markdown",
      "metadata": {
        "id": "mGCDB_onvsaQ"
      },
      "source": [
        "AGE :    \n",
        "- Over 55 years (1)\n",
        "- 45 - 55 years (2)\n",
        "- 35 - 44 years (3)\n",
        "- Under 35 Years (4)\n",
        "\n",
        "EXPENSES :\n",
        "- LEBIH DARI 75 % dari income (1)\n",
        "- 50-75 % dari income (2)\n",
        "- 25-50% dari income (3)\n",
        "- Dibawah 25% (4)\n",
        "\n",
        "FINANCIAL STATUS :\n",
        "- debts > asset (1)\n",
        "- debts = asset (2)\n",
        "- debts < asset (3)\n",
        "- have invest of pension (4)\n",
        "\n",
        "EXPERIENCE :\n",
        "- Bank Deposit (1)\n",
        "- Bonds (Obligasi) (2)\n",
        "- Fixed Income (Pendapatan Tetap) (3)\n",
        "- High Rate Asset (4)\n",
        "\n",
        "ESTIMATED PERIOD :\n",
        "- Under 1 year (1)\n",
        "- 1 - 3 year (2)\n",
        "- 3 - 5 year (3)\n",
        "- Over 5 year (4)\n",
        "\n",
        "SCENARIO :\n",
        "- return 2.5% loss 0% (1)\n",
        "- return 7% loss 1% (2)\n",
        "- return 15% loss 5% (3)\n",
        "- return 25% loss 15% (4)\n",
        "\n",
        "UNWILLING TO ACCEPT (**TOLERANSI KERUGIAN**):\n",
        "- Below 5% (1)\n",
        "- 5-10% (2)\n",
        "- 10-20% (3)\n",
        "- Above 20% (4)\n"
      ]
    },
    {
      "cell_type": "code",
      "execution_count": 1,
      "metadata": {
        "colab": {
          "base_uri": "https://localhost:8080/"
        },
        "id": "RTEIfgrojOAB",
        "outputId": "95cc8428-06e5-476d-a5a1-f11ac1b5e207"
      },
      "outputs": [
        {
          "name": "stdout",
          "output_type": "stream",
          "text": [
            "                age        salary      expenses  financial_status  \\\n",
            "count  10000.000000  1.000000e+04  10000.000000        10000.0000   \n",
            "mean       2.501000  5.077415e+07      2.507700            2.4841   \n",
            "std        1.118984  2.844038e+07      1.115915            1.1203   \n",
            "min        1.000000  1.844672e+06      1.000000            1.0000   \n",
            "25%        1.000000  2.618047e+07      2.000000            1.0000   \n",
            "50%        3.000000  5.110795e+07      3.000000            2.0000   \n",
            "75%        4.000000  7.521313e+07      4.000000            3.0000   \n",
            "max        4.000000  9.999217e+07      4.000000            4.0000   \n",
            "\n",
            "         experience  estimated_period  unwilling_toAccept      scenario  \n",
            "count  10000.000000      10000.000000        10000.000000  10000.000000  \n",
            "mean       2.493200          2.502300            2.522600      2.518100  \n",
            "std        1.114934          1.116924            1.119917      1.117764  \n",
            "min        1.000000          1.000000            1.000000      1.000000  \n",
            "25%        1.000000          2.000000            2.000000      2.000000  \n",
            "50%        2.000000          2.000000            3.000000      3.000000  \n",
            "75%        3.000000          4.000000            4.000000      4.000000  \n",
            "max        4.000000          4.000000            4.000000      4.000000  \n"
          ]
        }
      ],
      "source": [
        "import random\n",
        "import pandas as pd\n",
        "import numpy as np\n",
        "np.random.seed(42)\n",
        "\n",
        "# Generate random values for customer attributes\n",
        "ages = [random.randint(1, 4) for i in range(10000)]\n",
        "salary = [random.uniform(1812935, 100000000) for i in range(10000)]\n",
        "expenses = [random.randint(1, 4) for i in range(10000)]\n",
        "financial_status = [random.randint(1, 4) for i in range(10000)]\n",
        "experience = [random.randint(1, 4) for i in range(10000)]\n",
        "estimated_period = [random.randint(1, 4) for i in range(10000)]\n",
        "unwilling_toAccept = [random.randint(1, 4) for i in range(10000)]\n",
        "scenario = [random.randint(1, 4) for i in range(10000)]\n",
        "\n",
        "# Create a DataFrame to store the data\n",
        "df = pd.DataFrame({\n",
        "    'age': ages,\n",
        "    'salary': np.round(salary),\n",
        "    'expenses': expenses,\n",
        "    'financial_status': financial_status,\n",
        "    'experience' : experience,\n",
        "    'estimated_period' : estimated_period,\n",
        "    'unwilling_toAccept' : unwilling_toAccept,\n",
        "    'scenario' : scenario\n",
        "})\n",
        "\n",
        "# Calculate summary statistics for the data\n",
        "print(df.describe())\n",
        "\n",
        "# Create a visualization to show the distribution of risk profiles\n",
        "# df.groupby('expenses').size().plot(kind='bar')"
      ]
    },
    {
      "cell_type": "code",
      "execution_count": 2,
      "metadata": {
        "colab": {
          "base_uri": "https://localhost:8080/"
        },
        "id": "5WknheE_ERQ_",
        "outputId": "14d1b730-389a-4172-8990-76b3d1ba0f04"
      },
      "outputs": [
        {
          "data": {
            "text/plain": [
              "(10000, 8)"
            ]
          },
          "execution_count": 2,
          "metadata": {},
          "output_type": "execute_result"
        }
      ],
      "source": [
        "df.shape"
      ]
    },
    {
      "cell_type": "code",
      "execution_count": 3,
      "metadata": {
        "colab": {
          "base_uri": "https://localhost:8080/"
        },
        "id": "07af4rELDI1-",
        "outputId": "a8aa7a6f-efe0-4648-da8c-8f52db619040"
      },
      "outputs": [
        {
          "data": {
            "text/plain": [
              "0       24902619\n",
              "1        8242488\n",
              "2       92337474\n",
              "3       31172488\n",
              "4       14982433\n",
              "          ...   \n",
              "9995    46598235\n",
              "9996    53982761\n",
              "9997    11441144\n",
              "9998    18784618\n",
              "9999    66544427\n",
              "Name: salary, Length: 10000, dtype: int64"
            ]
          },
          "execution_count": 3,
          "metadata": {},
          "output_type": "execute_result"
        }
      ],
      "source": [
        "df.salary.astype(int)"
      ]
    },
    {
      "cell_type": "code",
      "execution_count": 4,
      "metadata": {
        "colab": {
          "base_uri": "https://localhost:8080/"
        },
        "id": "CtvGdp5kJN_y",
        "outputId": "de4dafe0-ea6d-4005-8a76-538be1088502"
      },
      "outputs": [
        {
          "data": {
            "text/plain": [
              "4    2514\n",
              "2    2513\n",
              "3    2511\n",
              "1    2462\n",
              "Name: expenses, dtype: int64"
            ]
          },
          "execution_count": 4,
          "metadata": {},
          "output_type": "execute_result"
        }
      ],
      "source": [
        "df.expenses.value_counts()"
      ]
    },
    {
      "cell_type": "code",
      "execution_count": 5,
      "metadata": {
        "colab": {
          "base_uri": "https://localhost:8080/"
        },
        "id": "tJGAIaeQ-0yd",
        "outputId": "99fcb526-2974-49b8-e23c-037ae84963bc"
      },
      "outputs": [
        {
          "data": {
            "text/plain": [
              "age                  -0.003360\n",
              "salary               -0.002120\n",
              "expenses             -0.008090\n",
              "financial_status      0.021834\n",
              "experience            0.004299\n",
              "estimated_period      0.000049\n",
              "unwilling_toAccept   -0.025558\n",
              "scenario             -0.018707\n",
              "dtype: float64"
            ]
          },
          "execution_count": 5,
          "metadata": {},
          "output_type": "execute_result"
        }
      ],
      "source": [
        "df.skew()"
      ]
    },
    {
      "cell_type": "code",
      "execution_count": 6,
      "metadata": {
        "id": "vyl2CSTN_U7h"
      },
      "outputs": [],
      "source": [
        "import matplotlib.pyplot as plt\n",
        "import seaborn as sns"
      ]
    },
    {
      "cell_type": "code",
      "execution_count": 7,
      "metadata": {
        "colab": {
          "base_uri": "https://localhost:8080/",
          "height": 1000
        },
        "id": "Ib2J_MMP-75t",
        "outputId": "8d9c0f87-a7e8-4d71-b90f-c745ae92d08b"
      },
      "outputs": [
        {
          "data": {
            "image/png": "[encoded data removed]",
            "text/plain": [
              "<Figure size 216x360 with 1 Axes>"
            ]
          },
          "metadata": {
            "needs_background": "light"
          },
          "output_type": "display_data"
        },
        {
          "name": "stdout",
          "output_type": "stream",
          "text": [
            "age Skewness: -0.0033597805921406283\n",
            "Columns 'age' normal distribution\n"
          ]
        },
        {
          "data": {
            "image/png": "[encoded data removed]",
            "text/plain": [
              "<Figure size 216x360 with 1 Axes>"
            ]
          },
          "metadata": {
            "needs_background": "light"
          },
          "output_type": "display_data"
        },
        {
          "name": "stdout",
          "output_type": "stream",
          "text": [
            "salary Skewness: -0.0021203650548436365\n",
            "Columns 'salary' normal distribution\n"
          ]
        },
        {
          "data": {
            "image/png": "[encoded data removed]",
            "text/plain": [
              "<Figure size 216x360 with 1 Axes>"
            ]
          },
          "metadata": {
            "needs_background": "light"
          },
          "output_type": "display_data"
        },
        {
          "name": "stdout",
          "output_type": "stream",
          "text": [
            "expenses Skewness: -0.00808973932264715\n",
            "Columns 'expenses' normal distribution\n"
          ]
        },
        {
          "data": {
            "image/png": "[encoded data removed]",
            "text/plain": [
              "<Figure size 216x360 with 1 Axes>"
            ]
          },
          "metadata": {
            "needs_background": "light"
          },
          "output_type": "display_data"
        },
        {
          "name": "stdout",
          "output_type": "stream",
          "text": [
            "financial_status Skewness: 0.02183352579619926\n",
            "Columns 'financial_status' normal distribution\n"
          ]
        },
        {
          "data": {
            "image/png": "[encoded data removed]",
            "text/plain": [
              "<Figure size 216x360 with 1 Axes>"
            ]
          },
          "metadata": {
            "needs_background": "light"
          },
          "output_type": "display_data"
        },
        {
          "name": "stdout",
          "output_type": "stream",
          "text": [
            "experience Skewness: 0.004299114636452311\n",
            "Columns 'experience' normal distribution\n"
          ]
        },
        {
          "data": {
            "image/png": "[encoded data removed]",
            "text/plain": [
              "<Figure size 216x360 with 1 Axes>"
            ]
          },
          "metadata": {
            "needs_background": "light"
          },
          "output_type": "display_data"
        },
        {
          "name": "stdout",
          "output_type": "stream",
          "text": [
            "estimated_period Skewness: 4.879107313975869e-05\n",
            "Columns 'estimated_period' normal distribution\n"
          ]
        },
        {
          "data": {
            "image/png": "[encoded data removed]",
            "text/plain": [
              "<Figure size 216x360 with 1 Axes>"
            ]
          },
          "metadata": {
            "needs_background": "light"
          },
          "output_type": "display_data"
        },
        {
          "name": "stdout",
          "output_type": "stream",
          "text": [
            "unwilling_toAccept Skewness: -0.025558263874895754\n",
            "Columns 'unwilling_toAccept' normal distribution\n"
          ]
        },
        {
          "data": {
            "image/png": "[encoded data removed]",
            "text/plain": [
              "<Figure size 216x360 with 1 Axes>"
            ]
          },
          "metadata": {
            "needs_background": "light"
          },
          "output_type": "display_data"
        },
        {
          "name": "stdout",
          "output_type": "stream",
          "text": [
            "scenario Skewness: -0.018706523847575852\n",
            "Columns 'scenario' normal distribution\n"
          ]
        }
      ],
      "source": [
        "def plot_outlier(df, col):\n",
        "    fig, ax = plt.subplots(figsize = (3, 5))\n",
        "    \n",
        "    sns.boxplot(y=df[col], ax =  ax)\n",
        "    ax.set_title(f\"Boxplot '{col}'\")\n",
        "    plt.show()\n",
        "    \n",
        "    print(df[col].name + ' Skewness: ' + str(df[col].skew()))\n",
        "    if -0.5 <= df[col].skew() <= 0.5:\n",
        "        print(\"Columns '{}' normal distribution\".format(col))\n",
        "    elif df[col].skew() > 0.5:\n",
        "        print(\"Columns '{}' right skewed\".format(col))\n",
        "    elif df[col].skew() < -0.5:\n",
        "        print(\"Columns '{}' left skewed\".format(col))\n",
        "\n",
        "for col in df.columns:\n",
        "    plot_outlier(df, col)"
      ]
    },
    {
      "cell_type": "code",
      "execution_count": 8,
      "metadata": {
        "colab": {
          "base_uri": "https://localhost:8080/"
        },
        "id": "DisJ2XGMF8l7",
        "outputId": "40271fe8-940a-4a47-8d2f-cfe7cf30d031"
      },
      "outputs": [
        {
          "data": {
            "text/plain": [
              "Index(['age', 'salary', 'expenses', 'financial_status', 'experience',\n",
              "       'estimated_period', 'unwilling_toAccept', 'scenario'],\n",
              "      dtype='object')"
            ]
          },
          "execution_count": 8,
          "metadata": {},
          "output_type": "execute_result"
        }
      ],
      "source": [
        "df.columns"
      ]
    },
    {
      "cell_type": "code",
      "execution_count": 9,
      "metadata": {
        "colab": {
          "base_uri": "https://localhost:8080/",
          "height": 606
        },
        "id": "gavpw8bpF2sR",
        "outputId": "aafa8209-e389-4c64-cd7f-206002dd4397"
      },
      "outputs": [
        {
          "data": {
            "image/png": "[encoded data removed]",
            "text/plain": [
              "<Figure size 1440x720 with 8 Axes>"
            ]
          },
          "metadata": {
            "needs_background": "light"
          },
          "output_type": "display_data"
        }
      ],
      "source": [
        "cols = ['age', 'salary', 'expenses', 'financial_status', 'experience',\n",
        "       'estimated_period', 'unwilling_toAccept', 'scenario']\n",
        "fig, ax = plt.subplots(ncols=4,nrows=2,figsize=(20,10))\n",
        "x=0\n",
        "for i in range(2):\n",
        "  for j in range(4):\n",
        "    try:\n",
        "      sns.histplot(df[cols[x]],ax=ax[i][j])\n",
        "      x+=1\n",
        "    except:\n",
        "      pass\n",
        "plt.show()"
      ]
    },
    {
      "cell_type": "code",
      "execution_count": 10,
      "metadata": {
        "colab": {
          "base_uri": "https://localhost:8080/"
        },
        "id": "ikiesGKRH-d_",
        "outputId": "bc7ca745-5e8a-4ccd-ccb2-f0f5a18fd4d9"
      },
      "outputs": [
        {
          "data": {
            "text/plain": [
              "0"
            ]
          },
          "execution_count": 10,
          "metadata": {},
          "output_type": "execute_result"
        }
      ],
      "source": [
        "df.duplicated().sum()"
      ]
    },
    {
      "cell_type": "markdown",
      "metadata": {
        "id": "NsENeOmVraRU"
      },
      "source": [
        "## **FILTERING BASED ON INDIVIDUAL SCORES**\n",
        "1. \"<10\"   = Low Risk (**Very Cautious**)\n",
        "2. \"11-15\" = Low to moderate Risk (**Cautious**)\n",
        "3. \"16-21\" = Moderate to moderately high risk (**Balanced**)\n",
        "4. \"22-26\" = High Risk (**Adventurous**)\n",
        "5. \">26\"   = Very High risk (**Speculative**)"
      ]
    },
    {
      "cell_type": "markdown",
      "metadata": {
        "id": "dUSxp8GFu6c4"
      },
      "source": [
        "### **LOW RISK**"
      ]
    },
    {
      "cell_type": "code",
      "execution_count": 11,
      "metadata": {
        "id": "-ZljuPG9s60g"
      },
      "outputs": [],
      "source": [
        "low_risk_threshold = 10\n",
        "\n",
        "low_risk = df[df[['age', 'expenses', 'financial_status', 'experience',\n",
        "       'estimated_period', 'unwilling_toAccept', 'scenario']].sum(axis=1).isin([low_risk_threshold])]"
      ]
    },
    {
      "cell_type": "code",
      "execution_count": 12,
      "metadata": {
        "colab": {
          "base_uri": "https://localhost:8080/"
        },
        "id": "1VaBiSDYt4eo",
        "outputId": "55f29692-738d-4877-8fd1-c4c702148bc4"
      },
      "outputs": [
        {
          "data": {
            "text/plain": [
              "age                   66\n",
              "salary                66\n",
              "expenses              66\n",
              "financial_status      66\n",
              "experience            66\n",
              "estimated_period      66\n",
              "unwilling_toAccept    66\n",
              "scenario              66\n",
              "dtype: int64"
            ]
          },
          "execution_count": 12,
          "metadata": {},
          "output_type": "execute_result"
        }
      ],
      "source": [
        "low_risk.count()"
      ]
    },
    {
      "cell_type": "markdown",
      "metadata": {
        "id": "MsqMPiVOu-d-"
      },
      "source": [
        "### **LOW TO MODERATE RISK**"
      ]
    },
    {
      "cell_type": "code",
      "execution_count": 13,
      "metadata": {
        "id": "_Xo7LMWV1VBk"
      },
      "outputs": [],
      "source": [
        "lowtoMed_threshold = 11\n",
        "\n",
        "lowtoMed_risk = df[df[['age', 'expenses', 'financial_status', 'experience',\n",
        "       'estimated_period', 'unwilling_toAccept', 'scenario']].sum(axis=1).isin([lowtoMed_threshold, lowtoMed_threshold+1, lowtoMed_threshold+2, lowtoMed_threshold+3, lowtoMed_threshold+4])]"
      ]
    },
    {
      "cell_type": "code",
      "execution_count": 14,
      "metadata": {
        "id": "EByrwRx31uPZ"
      },
      "outputs": [],
      "source": [
        "lowtoMed = pd.DataFrame(lowtoMed_risk)"
      ]
    },
    {
      "cell_type": "code",
      "execution_count": 15,
      "metadata": {
        "colab": {
          "base_uri": "https://localhost:8080/"
        },
        "id": "PPpKrMy-2BS2",
        "outputId": "5b3b5001-b08f-4e8d-f9c1-e9e7ca2f57ca"
      },
      "outputs": [
        {
          "data": {
            "text/plain": [
              "age                   2410\n",
              "salary                2410\n",
              "expenses              2410\n",
              "financial_status      2410\n",
              "experience            2410\n",
              "estimated_period      2410\n",
              "unwilling_toAccept    2410\n",
              "scenario              2410\n",
              "dtype: int64"
            ]
          },
          "execution_count": 15,
          "metadata": {},
          "output_type": "execute_result"
        }
      ],
      "source": [
        "lowtoMed.count()"
      ]
    },
    {
      "cell_type": "markdown",
      "metadata": {
        "id": "_cUwyDAl2OcW"
      },
      "source": [
        "### **MODERATE TO HIGH RISK**"
      ]
    },
    {
      "cell_type": "code",
      "execution_count": 16,
      "metadata": {
        "id": "Hf5t5vGs2UFz"
      },
      "outputs": [],
      "source": [
        "med_threshold = 16\n",
        "\n",
        "med_risk = df[df[['age', 'expenses', 'financial_status', 'experience',\n",
        "       'estimated_period', 'unwilling_toAccept', 'scenario']].sum(axis=1).isin([med_threshold, med_threshold+1, med_threshold+2, med_threshold+3, med_threshold+4, med_threshold+5])]"
      ]
    },
    {
      "cell_type": "code",
      "execution_count": 17,
      "metadata": {
        "colab": {
          "base_uri": "https://localhost:8080/"
        },
        "id": "nXEVHUVP3A7q",
        "outputId": "e5f40df3-636a-422a-e914-e619178d64fd"
      },
      "outputs": [
        {
          "data": {
            "text/plain": [
              "age                   6590\n",
              "salary                6590\n",
              "expenses              6590\n",
              "financial_status      6590\n",
              "experience            6590\n",
              "estimated_period      6590\n",
              "unwilling_toAccept    6590\n",
              "scenario              6590\n",
              "dtype: int64"
            ]
          },
          "execution_count": 17,
          "metadata": {},
          "output_type": "execute_result"
        }
      ],
      "source": [
        "med_risk.count()"
      ]
    },
    {
      "cell_type": "code",
      "execution_count": 18,
      "metadata": {
        "id": "UWrKgUWs5R88"
      },
      "outputs": [],
      "source": [
        "med = pd.DataFrame(med_risk)"
      ]
    },
    {
      "cell_type": "markdown",
      "metadata": {
        "id": "oCV4aXZ83Sug"
      },
      "source": [
        "### **HIGH RISK**"
      ]
    },
    {
      "cell_type": "code",
      "execution_count": 19,
      "metadata": {
        "id": "HxQ1rhuH3zUE"
      },
      "outputs": [],
      "source": [
        "high_threshold = 22\n",
        "\n",
        "high_risk = df[df[['age', 'expenses', 'financial_status', 'experience',\n",
        "       'estimated_period', 'unwilling_toAccept', 'scenario']].sum(axis=1).isin([high_threshold, high_threshold+1, high_threshold+2, high_threshold+3, high_threshold+4])]"
      ]
    },
    {
      "cell_type": "code",
      "execution_count": 20,
      "metadata": {
        "colab": {
          "base_uri": "https://localhost:8080/"
        },
        "id": "JEayuEic3s-O",
        "outputId": "f87bf1ae-6542-41f1-ca6f-6b55c200ec9d"
      },
      "outputs": [
        {
          "data": {
            "text/plain": [
              "age                   909\n",
              "salary                909\n",
              "expenses              909\n",
              "financial_status      909\n",
              "experience            909\n",
              "estimated_period      909\n",
              "unwilling_toAccept    909\n",
              "scenario              909\n",
              "dtype: int64"
            ]
          },
          "execution_count": 20,
          "metadata": {},
          "output_type": "execute_result"
        }
      ],
      "source": [
        "high_risk.count()"
      ]
    },
    {
      "cell_type": "code",
      "execution_count": 21,
      "metadata": {
        "id": "jp6BOKb65Z2a"
      },
      "outputs": [],
      "source": [
        "high = pd.DataFrame(high_risk)"
      ]
    },
    {
      "cell_type": "markdown",
      "metadata": {
        "id": "5lkVJE253v76"
      },
      "source": [
        "### **VERY HIGH RISK**"
      ]
    },
    {
      "cell_type": "code",
      "execution_count": 22,
      "metadata": {
        "id": "C5MnfDx33WnU"
      },
      "outputs": [],
      "source": [
        "veryHigh_threshold = 26\n",
        "\n",
        "veryHigh_risk = df[df[['age', 'expenses', 'financial_status', 'experience',\n",
        "       'estimated_period', 'unwilling_toAccept', 'scenario']].sum(axis=1).isin([veryHigh_threshold, veryHigh_threshold+1, veryHigh_threshold+2])]"
      ]
    },
    {
      "cell_type": "code",
      "execution_count": 23,
      "metadata": {
        "colab": {
          "base_uri": "https://localhost:8080/"
        },
        "id": "xKcURVSI4H7L",
        "outputId": "049ad57d-de31-4476-ae8a-7bac69d7c821"
      },
      "outputs": [
        {
          "data": {
            "text/plain": [
              "age                   24\n",
              "salary                24\n",
              "expenses              24\n",
              "financial_status      24\n",
              "experience            24\n",
              "estimated_period      24\n",
              "unwilling_toAccept    24\n",
              "scenario              24\n",
              "dtype: int64"
            ]
          },
          "execution_count": 23,
          "metadata": {},
          "output_type": "execute_result"
        }
      ],
      "source": [
        "veryHigh_risk.count()"
      ]
    },
    {
      "cell_type": "code",
      "execution_count": 24,
      "metadata": {
        "id": "HfDFRelZ5gm8"
      },
      "outputs": [],
      "source": [
        "veryHigh = pd.DataFrame(veryHigh_risk)"
      ]
    }
  ],
  "metadata": {
    "colab": {
      "provenance": []
    },
    "kernelspec": {
      "display_name": "base",
      "language": "python",
      "name": "python3"
    },
    "language_info": {
      "codemirror_mode": {
        "name": "ipython",
        "version": 3
      },
      "file_extension": ".py",
      "mimetype": "text/x-python",
      "name": "python",
      "nbconvert_exporter": "python",
      "pygments_lexer": "ipython3",
      "version": "3.9.15"
    },
    "orig_nbformat": 4,
    "vscode": {
      "interpreter": {
        "hash": "a2d054795e19a26e6d8ecc8988d9832bb6989bde7a8c3604e701201ac7127ba9"
      }
    }
  },
  "nbformat": 4,
  "nbformat_minor": 0
}
